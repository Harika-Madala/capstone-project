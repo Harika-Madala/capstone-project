{
 "cells": [
  {
   "cell_type": "markdown",
   "metadata": {},
   "source": [
    "# Capstone Project – The Battle of Neighborhoods | Finding a Better Place in Scarborough, Toronto"
   ]
  },
  {
   "cell_type": "code",
   "execution_count": 1,
   "metadata": {},
   "outputs": [
    {
     "name": "stdout",
     "output_type": "stream",
     "text": [
      "Requirement already satisfied: geocoder in c:\\python\\lib\\site-packages (1.38.1)\n",
      "Requirement already satisfied: click in c:\\python\\lib\\site-packages (from geocoder) (7.0)\n",
      "Requirement already satisfied: requests in c:\\python\\lib\\site-packages (from geocoder) (2.22.0)\n",
      "Requirement already satisfied: future in c:\\python\\lib\\site-packages (from geocoder) (0.17.1)\n",
      "Requirement already satisfied: ratelim in c:\\python\\lib\\site-packages (from geocoder) (0.1.6)\n",
      "Requirement already satisfied: six in c:\\python\\lib\\site-packages (from geocoder) (1.12.0)\n",
      "Requirement already satisfied: idna<2.9,>=2.5 in c:\\python\\lib\\site-packages (from requests->geocoder) (2.8)\n",
      "Requirement already satisfied: urllib3!=1.25.0,!=1.25.1,<1.26,>=1.21.1 in c:\\python\\lib\\site-packages (from requests->geocoder) (1.24.2)\n",
      "Requirement already satisfied: chardet<3.1.0,>=3.0.2 in c:\\python\\lib\\site-packages (from requests->geocoder) (3.0.4)\n",
      "Requirement already satisfied: certifi>=2017.4.17 in c:\\python\\lib\\site-packages (from requests->geocoder) (2019.9.11)\n",
      "Requirement already satisfied: decorator in c:\\python\\lib\\site-packages (from ratelim->geocoder) (4.4.0)\n",
      "Requirement already satisfied: folium in c:\\python\\lib\\site-packages (0.11.0)\n",
      "Requirement already satisfied: requests in c:\\python\\lib\\site-packages (from folium) (2.22.0)\n",
      "Requirement already satisfied: branca>=0.3.0 in c:\\python\\lib\\site-packages (from folium) (0.4.1)\n",
      "Requirement already satisfied: jinja2>=2.9 in c:\\python\\lib\\site-packages (from folium) (2.10.3)\n",
      "Requirement already satisfied: numpy in c:\\python\\lib\\site-packages (from folium) (1.16.5)\n",
      "Requirement already satisfied: certifi>=2017.4.17 in c:\\python\\lib\\site-packages (from requests->folium) (2019.9.11)\n",
      "Requirement already satisfied: chardet<3.1.0,>=3.0.2 in c:\\python\\lib\\site-packages (from requests->folium) (3.0.4)\n",
      "Requirement already satisfied: urllib3!=1.25.0,!=1.25.1,<1.26,>=1.21.1 in c:\\python\\lib\\site-packages (from requests->folium) (1.24.2)\n",
      "Requirement already satisfied: idna<2.9,>=2.5 in c:\\python\\lib\\site-packages (from requests->folium) (2.8)\n",
      "Requirement already satisfied: MarkupSafe>=0.23 in c:\\python\\lib\\site-packages (from jinja2>=2.9->folium) (1.1.1)\n"
     ]
    }
   ],
   "source": [
    "!pip install geocoder\n",
    "!pip install folium"
   ]
  },
  {
   "cell_type": "code",
   "execution_count": 2,
   "metadata": {},
   "outputs": [
    {
     "name": "stdout",
     "output_type": "stream",
     "text": [
      "All Required Libraries Imported!\n"
     ]
    }
   ],
   "source": [
    "import pandas as pd\n",
    "import requests\n",
    "import numpy as np\n",
    "import geocoder\n",
    "import folium\n",
    "import requests \n",
    "import matplotlib.cm as cm\n",
    "import matplotlib.colors as colors\n",
    "import json\n",
    "import xml\n",
    "import matplotlib.pyplot as plt\n",
    "%matplotlib inline\n",
    "import warnings\n",
    "warnings.filterwarnings(\"ignore\")\n",
    "\n",
    "from pandas.io.json import json_normalize \n",
    "from sklearn.cluster import KMeans\n",
    "from geopy.geocoders import Nominatim \n",
    "from bs4 import BeautifulSoup\n",
    "\n",
    "pd.set_option('display.max_columns', None)\n",
    "pd.set_option('display.max_rows', None)\n",
    "\n",
    "print(\"All Required Libraries Imported!\")"
   ]
  },
  {
   "cell_type": "code",
   "execution_count": 3,
   "metadata": {},
   "outputs": [],
   "source": [
    "url = \"https://en.wikipedia.org/wiki/List_of_postal_codes_of_Canada:_M\"\n",
    "extracting_data = requests.get(url).text\n",
    "wiki_data = BeautifulSoup(extracting_data, 'lxml')"
   ]
  },
  {
   "cell_type": "code",
   "execution_count": 4,
   "metadata": {},
   "outputs": [],
   "source": [
    "column_names = ['Postalcode','Borough','Neighborhood']\n",
    "toronto = pd.DataFrame(columns = column_names)\n",
    "\n",
    "content = wiki_data.find('div', class_='mw-parser-output')\n",
    "table = content.table.tbody\n",
    "postcode = 0\n",
    "borough = 0\n",
    "neighborhood = 0\n",
    "\n",
    "for tr in table.find_all('tr'):\n",
    "    i = 0\n",
    "    for td in tr.find_all('td'):\n",
    "        if i == 0:\n",
    "            postcode = td.text\n",
    "            i = i + 1\n",
    "        elif i == 1:\n",
    "            borough = td.text\n",
    "            i = i + 1\n",
    "        elif i == 2: \n",
    "            neighborhood = td.text.strip('\\n').replace(']','')\n",
    "    toronto = toronto.append({'Postalcode': postcode,'Borough': borough,'Neighborhood': neighborhood},ignore_index=True)"
   ]
  },
  {
   "cell_type": "code",
   "execution_count": 5,
   "metadata": {},
   "outputs": [],
   "source": [
    "# clean dataframe \n",
    "toronto = toronto[toronto.Borough!='Not assigned']\n",
    "toronto = toronto[toronto.Borough!= 0]\n",
    "toronto.reset_index(drop = True, inplace = True)\n",
    "i = 0\n",
    "for i in range(0,toronto.shape[0]):\n",
    "    if toronto.iloc[i][2] == 'Not assigned':\n",
    "        toronto.iloc[i][2] = toronto.iloc[i][1]\n",
    "        i = i+1"
   ]
  },
  {
   "cell_type": "code",
   "execution_count": 6,
   "metadata": {},
   "outputs": [
    {
     "data": {
      "text/html": [
       "<div>\n",
       "<style scoped>\n",
       "    .dataframe tbody tr th:only-of-type {\n",
       "        vertical-align: middle;\n",
       "    }\n",
       "\n",
       "    .dataframe tbody tr th {\n",
       "        vertical-align: top;\n",
       "    }\n",
       "\n",
       "    .dataframe thead th {\n",
       "        text-align: right;\n",
       "    }\n",
       "</style>\n",
       "<table border=\"1\" class=\"dataframe\">\n",
       "  <thead>\n",
       "    <tr style=\"text-align: right;\">\n",
       "      <th></th>\n",
       "      <th>Postalcode</th>\n",
       "      <th>Borough</th>\n",
       "      <th>Neighborhood</th>\n",
       "    </tr>\n",
       "  </thead>\n",
       "  <tbody>\n",
       "    <tr>\n",
       "      <td>0</td>\n",
       "      <td>M1A\\n</td>\n",
       "      <td>Not assigned\\n</td>\n",
       "      <td>Not assigned\\n</td>\n",
       "    </tr>\n",
       "    <tr>\n",
       "      <td>1</td>\n",
       "      <td>M1B\\n</td>\n",
       "      <td>Scarborough\\n</td>\n",
       "      <td>Malvern, Rouge</td>\n",
       "    </tr>\n",
       "    <tr>\n",
       "      <td>2</td>\n",
       "      <td>M1C\\n</td>\n",
       "      <td>Scarborough\\n</td>\n",
       "      <td>Rouge Hill, Port Union, Highland Creek</td>\n",
       "    </tr>\n",
       "    <tr>\n",
       "      <td>3</td>\n",
       "      <td>M1E\\n</td>\n",
       "      <td>Scarborough\\n</td>\n",
       "      <td>Guildwood, Morningside, West Hill</td>\n",
       "    </tr>\n",
       "    <tr>\n",
       "      <td>4</td>\n",
       "      <td>M1G\\n</td>\n",
       "      <td>Scarborough\\n</td>\n",
       "      <td>Woburn</td>\n",
       "    </tr>\n",
       "  </tbody>\n",
       "</table>\n",
       "</div>"
      ],
      "text/plain": [
       "  Postalcode         Borough                            Neighborhood\n",
       "0      M1A\\n  Not assigned\\n                          Not assigned\\n\n",
       "1      M1B\\n   Scarborough\\n                          Malvern, Rouge\n",
       "2      M1C\\n   Scarborough\\n  Rouge Hill, Port Union, Highland Creek\n",
       "3      M1E\\n   Scarborough\\n       Guildwood, Morningside, West Hill\n",
       "4      M1G\\n   Scarborough\\n                                  Woburn"
      ]
     },
     "execution_count": 6,
     "metadata": {},
     "output_type": "execute_result"
    }
   ],
   "source": [
    "df = toronto.groupby(['Postalcode','Borough'])['Neighborhood'].apply(', '.join).reset_index()\n",
    "df.head()"
   ]
  },
  {
   "cell_type": "code",
   "execution_count": 7,
   "metadata": {},
   "outputs": [
    {
     "data": {
      "text/html": [
       "<div>\n",
       "<style scoped>\n",
       "    .dataframe tbody tr th:only-of-type {\n",
       "        vertical-align: middle;\n",
       "    }\n",
       "\n",
       "    .dataframe tbody tr th {\n",
       "        vertical-align: top;\n",
       "    }\n",
       "\n",
       "    .dataframe thead th {\n",
       "        text-align: right;\n",
       "    }\n",
       "</style>\n",
       "<table border=\"1\" class=\"dataframe\">\n",
       "  <thead>\n",
       "    <tr style=\"text-align: right;\">\n",
       "      <th></th>\n",
       "      <th>Postalcode</th>\n",
       "      <th>Borough</th>\n",
       "      <th>Neighborhood</th>\n",
       "    </tr>\n",
       "  </thead>\n",
       "  <tbody>\n",
       "    <tr>\n",
       "      <td>count</td>\n",
       "      <td>180</td>\n",
       "      <td>180</td>\n",
       "      <td>180</td>\n",
       "    </tr>\n",
       "    <tr>\n",
       "      <td>unique</td>\n",
       "      <td>180</td>\n",
       "      <td>11</td>\n",
       "      <td>100</td>\n",
       "    </tr>\n",
       "    <tr>\n",
       "      <td>top</td>\n",
       "      <td>M3X\\n</td>\n",
       "      <td>Not assigned\\n</td>\n",
       "      <td>Not assigned\\n</td>\n",
       "    </tr>\n",
       "    <tr>\n",
       "      <td>freq</td>\n",
       "      <td>1</td>\n",
       "      <td>77</td>\n",
       "      <td>77</td>\n",
       "    </tr>\n",
       "  </tbody>\n",
       "</table>\n",
       "</div>"
      ],
      "text/plain": [
       "       Postalcode         Borough    Neighborhood\n",
       "count         180             180             180\n",
       "unique        180              11             100\n",
       "top         M3X\\n  Not assigned\\n  Not assigned\\n\n",
       "freq            1              77              77"
      ]
     },
     "execution_count": 7,
     "metadata": {},
     "output_type": "execute_result"
    }
   ],
   "source": [
    "df.describe()"
   ]
  },
  {
   "cell_type": "code",
   "execution_count": 8,
   "metadata": {},
   "outputs": [],
   "source": [
    "df = df.dropna()\n",
    "empty = 'Not assigned'\n",
    "df = df[(df.Postalcode != empty ) & (df.Borough != empty) & (df.Neighborhood != empty)]"
   ]
  },
  {
   "cell_type": "code",
   "execution_count": 9,
   "metadata": {},
   "outputs": [
    {
     "data": {
      "text/html": [
       "<div>\n",
       "<style scoped>\n",
       "    .dataframe tbody tr th:only-of-type {\n",
       "        vertical-align: middle;\n",
       "    }\n",
       "\n",
       "    .dataframe tbody tr th {\n",
       "        vertical-align: top;\n",
       "    }\n",
       "\n",
       "    .dataframe thead th {\n",
       "        text-align: right;\n",
       "    }\n",
       "</style>\n",
       "<table border=\"1\" class=\"dataframe\">\n",
       "  <thead>\n",
       "    <tr style=\"text-align: right;\">\n",
       "      <th></th>\n",
       "      <th>Postalcode</th>\n",
       "      <th>Borough</th>\n",
       "      <th>Neighborhood</th>\n",
       "    </tr>\n",
       "  </thead>\n",
       "  <tbody>\n",
       "    <tr>\n",
       "      <td>0</td>\n",
       "      <td>M1A\\n</td>\n",
       "      <td>Not assigned\\n</td>\n",
       "      <td>Not assigned\\n</td>\n",
       "    </tr>\n",
       "    <tr>\n",
       "      <td>1</td>\n",
       "      <td>M1B\\n</td>\n",
       "      <td>Scarborough\\n</td>\n",
       "      <td>Malvern, Rouge</td>\n",
       "    </tr>\n",
       "    <tr>\n",
       "      <td>2</td>\n",
       "      <td>M1C\\n</td>\n",
       "      <td>Scarborough\\n</td>\n",
       "      <td>Rouge Hill, Port Union, Highland Creek</td>\n",
       "    </tr>\n",
       "    <tr>\n",
       "      <td>3</td>\n",
       "      <td>M1E\\n</td>\n",
       "      <td>Scarborough\\n</td>\n",
       "      <td>Guildwood, Morningside, West Hill</td>\n",
       "    </tr>\n",
       "    <tr>\n",
       "      <td>4</td>\n",
       "      <td>M1G\\n</td>\n",
       "      <td>Scarborough\\n</td>\n",
       "      <td>Woburn</td>\n",
       "    </tr>\n",
       "  </tbody>\n",
       "</table>\n",
       "</div>"
      ],
      "text/plain": [
       "  Postalcode         Borough                            Neighborhood\n",
       "0      M1A\\n  Not assigned\\n                          Not assigned\\n\n",
       "1      M1B\\n   Scarborough\\n                          Malvern, Rouge\n",
       "2      M1C\\n   Scarborough\\n  Rouge Hill, Port Union, Highland Creek\n",
       "3      M1E\\n   Scarborough\\n       Guildwood, Morningside, West Hill\n",
       "4      M1G\\n   Scarborough\\n                                  Woburn"
      ]
     },
     "execution_count": 9,
     "metadata": {},
     "output_type": "execute_result"
    }
   ],
   "source": [
    "df.head()"
   ]
  },
  {
   "cell_type": "code",
   "execution_count": 10,
   "metadata": {},
   "outputs": [],
   "source": [
    "def neighborhood_list(grouped):    \n",
    "    return ', '.join(sorted(grouped['Neighborhood'].tolist()))\n",
    "                    \n",
    "grp = df.groupby(['Postalcode', 'Borough'])\n",
    "df_2 = grp.apply(neighborhood_list).reset_index(name='Neighborhood')"
   ]
  },
  {
   "cell_type": "code",
   "execution_count": 11,
   "metadata": {},
   "outputs": [
    {
     "data": {
      "text/html": [
       "<div>\n",
       "<style scoped>\n",
       "    .dataframe tbody tr th:only-of-type {\n",
       "        vertical-align: middle;\n",
       "    }\n",
       "\n",
       "    .dataframe tbody tr th {\n",
       "        vertical-align: top;\n",
       "    }\n",
       "\n",
       "    .dataframe thead th {\n",
       "        text-align: right;\n",
       "    }\n",
       "</style>\n",
       "<table border=\"1\" class=\"dataframe\">\n",
       "  <thead>\n",
       "    <tr style=\"text-align: right;\">\n",
       "      <th></th>\n",
       "      <th>Postalcode</th>\n",
       "      <th>Borough</th>\n",
       "      <th>Neighborhood</th>\n",
       "    </tr>\n",
       "  </thead>\n",
       "  <tbody>\n",
       "    <tr>\n",
       "      <td>count</td>\n",
       "      <td>180</td>\n",
       "      <td>180</td>\n",
       "      <td>180</td>\n",
       "    </tr>\n",
       "    <tr>\n",
       "      <td>unique</td>\n",
       "      <td>180</td>\n",
       "      <td>11</td>\n",
       "      <td>100</td>\n",
       "    </tr>\n",
       "    <tr>\n",
       "      <td>top</td>\n",
       "      <td>M3X\\n</td>\n",
       "      <td>Not assigned\\n</td>\n",
       "      <td>Not assigned\\n</td>\n",
       "    </tr>\n",
       "    <tr>\n",
       "      <td>freq</td>\n",
       "      <td>1</td>\n",
       "      <td>77</td>\n",
       "      <td>77</td>\n",
       "    </tr>\n",
       "  </tbody>\n",
       "</table>\n",
       "</div>"
      ],
      "text/plain": [
       "       Postalcode         Borough    Neighborhood\n",
       "count         180             180             180\n",
       "unique        180              11             100\n",
       "top         M3X\\n  Not assigned\\n  Not assigned\\n\n",
       "freq            1              77              77"
      ]
     },
     "execution_count": 11,
     "metadata": {},
     "output_type": "execute_result"
    }
   ],
   "source": [
    "df_2.describe()"
   ]
  },
  {
   "cell_type": "code",
   "execution_count": 12,
   "metadata": {},
   "outputs": [
    {
     "name": "stdout",
     "output_type": "stream",
     "text": [
      "(180, 3)\n"
     ]
    },
    {
     "data": {
      "text/html": [
       "<div>\n",
       "<style scoped>\n",
       "    .dataframe tbody tr th:only-of-type {\n",
       "        vertical-align: middle;\n",
       "    }\n",
       "\n",
       "    .dataframe tbody tr th {\n",
       "        vertical-align: top;\n",
       "    }\n",
       "\n",
       "    .dataframe thead th {\n",
       "        text-align: right;\n",
       "    }\n",
       "</style>\n",
       "<table border=\"1\" class=\"dataframe\">\n",
       "  <thead>\n",
       "    <tr style=\"text-align: right;\">\n",
       "      <th></th>\n",
       "      <th>Postalcode</th>\n",
       "      <th>Borough</th>\n",
       "      <th>Neighborhood</th>\n",
       "    </tr>\n",
       "  </thead>\n",
       "  <tbody>\n",
       "    <tr>\n",
       "      <td>0</td>\n",
       "      <td>M1A\\n</td>\n",
       "      <td>Not assigned\\n</td>\n",
       "      <td>Not assigned\\n</td>\n",
       "    </tr>\n",
       "    <tr>\n",
       "      <td>1</td>\n",
       "      <td>M1B\\n</td>\n",
       "      <td>Scarborough\\n</td>\n",
       "      <td>Malvern, Rouge</td>\n",
       "    </tr>\n",
       "    <tr>\n",
       "      <td>2</td>\n",
       "      <td>M1C\\n</td>\n",
       "      <td>Scarborough\\n</td>\n",
       "      <td>Rouge Hill, Port Union, Highland Creek</td>\n",
       "    </tr>\n",
       "    <tr>\n",
       "      <td>3</td>\n",
       "      <td>M1E\\n</td>\n",
       "      <td>Scarborough\\n</td>\n",
       "      <td>Guildwood, Morningside, West Hill</td>\n",
       "    </tr>\n",
       "    <tr>\n",
       "      <td>4</td>\n",
       "      <td>M1G\\n</td>\n",
       "      <td>Scarborough\\n</td>\n",
       "      <td>Woburn</td>\n",
       "    </tr>\n",
       "  </tbody>\n",
       "</table>\n",
       "</div>"
      ],
      "text/plain": [
       "  Postalcode         Borough                            Neighborhood\n",
       "0      M1A\\n  Not assigned\\n                          Not assigned\\n\n",
       "1      M1B\\n   Scarborough\\n                          Malvern, Rouge\n",
       "2      M1C\\n   Scarborough\\n  Rouge Hill, Port Union, Highland Creek\n",
       "3      M1E\\n   Scarborough\\n       Guildwood, Morningside, West Hill\n",
       "4      M1G\\n   Scarborough\\n                                  Woburn"
      ]
     },
     "execution_count": 12,
     "metadata": {},
     "output_type": "execute_result"
    }
   ],
   "source": [
    "print(df_2.shape)\n",
    "df_2.head()"
   ]
  },
  {
   "cell_type": "code",
   "execution_count": 13,
   "metadata": {},
   "outputs": [
    {
     "data": {
      "text/plain": [
       "[43.70941386000004, -79.36309957799995]"
      ]
     },
     "execution_count": 13,
     "metadata": {},
     "output_type": "execute_result"
    }
   ],
   "source": [
    "def get_latilong(postal_code):\n",
    "    lati_long_coords = None\n",
    "    while(lati_long_coords is None):\n",
    "        g = geocoder.arcgis('{}, Toronto, Ontario'.format(postal_code))\n",
    "        lati_long_coords = g.latlng\n",
    "    return lati_long_coords\n",
    "    \n",
    "get_latilong('M4G')"
   ]
  },
  {
   "cell_type": "code",
   "execution_count": 14,
   "metadata": {},
   "outputs": [],
   "source": [
    "# Retrieving Postal Code Co-ordinates\n",
    "postal_codes = df_2['Postalcode']    \n",
    "coords = [ get_latilong(postal_code) for postal_code in postal_codes.tolist() ]"
   ]
  },
  {
   "cell_type": "code",
   "execution_count": 15,
   "metadata": {},
   "outputs": [],
   "source": [
    "# Adding Columns Latitude & Longitude\n",
    "df_coords = pd.DataFrame(coords, columns=['Latitude', 'Longitude'])\n",
    "df_2['Latitude'] = df_coords['Latitude']\n",
    "df_2['Longitude'] = df_coords['Longitude']"
   ]
  },
  {
   "cell_type": "code",
   "execution_count": 16,
   "metadata": {},
   "outputs": [
    {
     "data": {
      "text/html": [
       "<div>\n",
       "<style scoped>\n",
       "    .dataframe tbody tr th:only-of-type {\n",
       "        vertical-align: middle;\n",
       "    }\n",
       "\n",
       "    .dataframe tbody tr th {\n",
       "        vertical-align: top;\n",
       "    }\n",
       "\n",
       "    .dataframe thead th {\n",
       "        text-align: right;\n",
       "    }\n",
       "</style>\n",
       "<table border=\"1\" class=\"dataframe\">\n",
       "  <thead>\n",
       "    <tr style=\"text-align: right;\">\n",
       "      <th></th>\n",
       "      <th>Postalcode</th>\n",
       "      <th>Borough</th>\n",
       "      <th>Neighborhood</th>\n",
       "      <th>Latitude</th>\n",
       "      <th>Longitude</th>\n",
       "    </tr>\n",
       "  </thead>\n",
       "  <tbody>\n",
       "  </tbody>\n",
       "</table>\n",
       "</div>"
      ],
      "text/plain": [
       "Empty DataFrame\n",
       "Columns: [Postalcode, Borough, Neighborhood, Latitude, Longitude]\n",
       "Index: []"
      ]
     },
     "execution_count": 16,
     "metadata": {},
     "output_type": "execute_result"
    }
   ],
   "source": [
    "df_2[df_2.Postalcode == 'M5G']"
   ]
  },
  {
   "cell_type": "code",
   "execution_count": 17,
   "metadata": {},
   "outputs": [
    {
     "data": {
      "text/html": [
       "<div>\n",
       "<style scoped>\n",
       "    .dataframe tbody tr th:only-of-type {\n",
       "        vertical-align: middle;\n",
       "    }\n",
       "\n",
       "    .dataframe tbody tr th {\n",
       "        vertical-align: top;\n",
       "    }\n",
       "\n",
       "    .dataframe thead th {\n",
       "        text-align: right;\n",
       "    }\n",
       "</style>\n",
       "<table border=\"1\" class=\"dataframe\">\n",
       "  <thead>\n",
       "    <tr style=\"text-align: right;\">\n",
       "      <th></th>\n",
       "      <th>Postalcode</th>\n",
       "      <th>Borough</th>\n",
       "      <th>Neighborhood</th>\n",
       "      <th>Latitude</th>\n",
       "      <th>Longitude</th>\n",
       "    </tr>\n",
       "  </thead>\n",
       "  <tbody>\n",
       "    <tr>\n",
       "      <td>0</td>\n",
       "      <td>M1A\\n</td>\n",
       "      <td>Not assigned\\n</td>\n",
       "      <td>Not assigned\\n</td>\n",
       "      <td>43.648690</td>\n",
       "      <td>-79.385440</td>\n",
       "    </tr>\n",
       "    <tr>\n",
       "      <td>1</td>\n",
       "      <td>M1B\\n</td>\n",
       "      <td>Scarborough\\n</td>\n",
       "      <td>Malvern, Rouge</td>\n",
       "      <td>43.808626</td>\n",
       "      <td>-79.189913</td>\n",
       "    </tr>\n",
       "    <tr>\n",
       "      <td>2</td>\n",
       "      <td>M1C\\n</td>\n",
       "      <td>Scarborough\\n</td>\n",
       "      <td>Rouge Hill, Port Union, Highland Creek</td>\n",
       "      <td>43.785779</td>\n",
       "      <td>-79.157368</td>\n",
       "    </tr>\n",
       "    <tr>\n",
       "      <td>3</td>\n",
       "      <td>M1E\\n</td>\n",
       "      <td>Scarborough\\n</td>\n",
       "      <td>Guildwood, Morningside, West Hill</td>\n",
       "      <td>43.765806</td>\n",
       "      <td>-79.185284</td>\n",
       "    </tr>\n",
       "    <tr>\n",
       "      <td>4</td>\n",
       "      <td>M1G\\n</td>\n",
       "      <td>Scarborough\\n</td>\n",
       "      <td>Woburn</td>\n",
       "      <td>43.771545</td>\n",
       "      <td>-79.218135</td>\n",
       "    </tr>\n",
       "    <tr>\n",
       "      <td>5</td>\n",
       "      <td>M1H\\n</td>\n",
       "      <td>Scarborough\\n</td>\n",
       "      <td>Cedarbrae</td>\n",
       "      <td>43.768791</td>\n",
       "      <td>-79.238813</td>\n",
       "    </tr>\n",
       "    <tr>\n",
       "      <td>6</td>\n",
       "      <td>M1J\\n</td>\n",
       "      <td>Scarborough\\n</td>\n",
       "      <td>Scarborough Village</td>\n",
       "      <td>43.744203</td>\n",
       "      <td>-79.228725</td>\n",
       "    </tr>\n",
       "    <tr>\n",
       "      <td>7</td>\n",
       "      <td>M1K\\n</td>\n",
       "      <td>Scarborough\\n</td>\n",
       "      <td>Kennedy Park, Ionview, East Birchmount Park</td>\n",
       "      <td>43.726881</td>\n",
       "      <td>-79.265694</td>\n",
       "    </tr>\n",
       "    <tr>\n",
       "      <td>8</td>\n",
       "      <td>M1L\\n</td>\n",
       "      <td>Scarborough\\n</td>\n",
       "      <td>Golden Mile, Clairlea, Oakridge</td>\n",
       "      <td>43.713340</td>\n",
       "      <td>-79.284942</td>\n",
       "    </tr>\n",
       "    <tr>\n",
       "      <td>9</td>\n",
       "      <td>M1M\\n</td>\n",
       "      <td>Scarborough\\n</td>\n",
       "      <td>Cliffside, Cliffcrest, Scarborough Village West</td>\n",
       "      <td>43.723538</td>\n",
       "      <td>-79.228353</td>\n",
       "    </tr>\n",
       "  </tbody>\n",
       "</table>\n",
       "</div>"
      ],
      "text/plain": [
       "  Postalcode         Borough                                     Neighborhood  \\\n",
       "0      M1A\\n  Not assigned\\n                                   Not assigned\\n   \n",
       "1      M1B\\n   Scarborough\\n                                   Malvern, Rouge   \n",
       "2      M1C\\n   Scarborough\\n           Rouge Hill, Port Union, Highland Creek   \n",
       "3      M1E\\n   Scarborough\\n                Guildwood, Morningside, West Hill   \n",
       "4      M1G\\n   Scarborough\\n                                           Woburn   \n",
       "5      M1H\\n   Scarborough\\n                                        Cedarbrae   \n",
       "6      M1J\\n   Scarborough\\n                              Scarborough Village   \n",
       "7      M1K\\n   Scarborough\\n      Kennedy Park, Ionview, East Birchmount Park   \n",
       "8      M1L\\n   Scarborough\\n                  Golden Mile, Clairlea, Oakridge   \n",
       "9      M1M\\n   Scarborough\\n  Cliffside, Cliffcrest, Scarborough Village West   \n",
       "\n",
       "    Latitude  Longitude  \n",
       "0  43.648690 -79.385440  \n",
       "1  43.808626 -79.189913  \n",
       "2  43.785779 -79.157368  \n",
       "3  43.765806 -79.185284  \n",
       "4  43.771545 -79.218135  \n",
       "5  43.768791 -79.238813  \n",
       "6  43.744203 -79.228725  \n",
       "7  43.726881 -79.265694  \n",
       "8  43.713340 -79.284942  \n",
       "9  43.723538 -79.228353  "
      ]
     },
     "execution_count": 17,
     "metadata": {},
     "output_type": "execute_result"
    }
   ],
   "source": [
    "df_2.head(10)"
   ]
  },
  {
   "cell_type": "code",
   "execution_count": 18,
   "metadata": {},
   "outputs": [
    {
     "name": "stdout",
     "output_type": "stream",
     "text": [
      "The Geograpical Co-ordinate of Seattle,Washington are 43.773077, -79.257774.\n"
     ]
    }
   ],
   "source": [
    "address = 'Scarborough,Toronto'\n",
    "\n",
    "geolocator = Nominatim()\n",
    "location = geolocator.geocode(address)\n",
    "latitude_x = location.latitude\n",
    "longitude_y = location.longitude\n",
    "print('The Geograpical Co-ordinate of Seattle,Washington are {}, {}.'.format(latitude_x, longitude_y))"
   ]
  },
  {
   "cell_type": "code",
   "execution_count": 19,
   "metadata": {},
   "outputs": [
    {
     "data": {
      "text/html": [
       "<div style=\"width:100%;\"><div style=\"position:relative;width:100%;height:0;padding-bottom:60%;\"><span style=\"color:#565656\">Make this Notebook Trusted to load map: File -> Trust Notebook</span><iframe src=\"about:blank\" style=\"position:absolute;width:100%;height:100%;left:0;top:0;border:none !important;\" data-html=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 onload=\"this.contentDocument.open();this.contentDocument.write(atob(this.getAttribute('data-html')));this.contentDocument.close();\" allowfullscreen webkitallowfullscreen mozallowfullscreen></iframe></div></div>"
      ],
      "text/plain": [
       "<folium.folium.Map at 0x1ead9b16f48>"
      ]
     },
     "execution_count": 19,
     "metadata": {},
     "output_type": "execute_result"
    }
   ],
   "source": [
    "map_Scarborough = folium.Map(location=[latitude_x, longitude_y], zoom_start=10)\n",
    "\n",
    "for lat, lng, nei in zip(df_2['Latitude'], df_2['Longitude'], df_2['Neighborhood']):\n",
    "    \n",
    "    label = '{}'.format(nei)\n",
    "    label = folium.Popup(label, parse_html=True)\n",
    "    folium.CircleMarker(\n",
    "        [lat, lng],\n",
    "        radius=5,\n",
    "        popup=label,\n",
    "        color='blue',\n",
    "        fill=True,\n",
    "        fill_color='#3186cc',\n",
    "        fill_opacity=0.7,\n",
    "        parse_html=False).add_to(map_Scarborough)  \n",
    "    \n",
    "map_Scarborough"
   ]
  },
  {
   "cell_type": "code",
   "execution_count": 20,
   "metadata": {},
   "outputs": [
    {
     "name": "stdout",
     "output_type": "stream",
     "text": [
      "The Geograpical Co-ordinate of Neighborhood_1 are 43.773077, -79.257774.\n"
     ]
    }
   ],
   "source": [
    "address = 'Scarborough,Toronto'\n",
    "\n",
    "geolocator = Nominatim()\n",
    "location = geolocator.geocode(address)\n",
    "latitude_n1 = location.latitude\n",
    "longitude_n1 = location.longitude\n",
    "print('The Geograpical Co-ordinate of Neighborhood_1 are {}, {}.'.format(latitude_x, longitude_y))"
   ]
  },
  {
   "cell_type": "code",
   "execution_count": 21,
   "metadata": {},
   "outputs": [
    {
     "name": "stdout",
     "output_type": "stream",
     "text": [
      "Your credentails:\n",
      "CLIENT_ID: DPBYY4JUY3DU20ALPSUV4ONY2K1GOJJKJ1NIHBB32XEMOVYY\n",
      "CLIENT_SECRET: 1MV443TYEP4HUO0WDUW5NQ5W10L2Y4G05NWG11WIR3NUGC5B\n"
     ]
    }
   ],
   "source": [
    "# @hiddel_cell\n",
    "CLIENT_ID = 'DPBYY4JUY3DU20ALPSUV4ONY2K1GOJJKJ1NIHBB32XEMOVYY' # my Foursquare ID\n",
    "CLIENT_SECRET = '1MV443TYEP4HUO0WDUW5NQ5W10L2Y4G05NWG11WIR3NUGC5B' # my Foursquare Secret\n",
    "VERSION = '20180604'\n",
    "LIMIT = 30\n",
    "print('Your credentails:')\n",
    "print('CLIENT_ID: '+CLIENT_ID)\n",
    "print('CLIENT_SECRET: '+CLIENT_SECRET)"
   ]
  },
  {
   "cell_type": "code",
   "execution_count": 22,
   "metadata": {},
   "outputs": [],
   "source": [
    "radius = 700 \n",
    "LIMIT = 100\n",
    "url = 'https://api.foursquare.com/v2/venues/explore?&client_id={}&client_secret={}&v={}&ll={},{}&radius={}&limit={}'.format(\n",
    "    CLIENT_ID, \n",
    "    CLIENT_SECRET, \n",
    "    VERSION, \n",
    "    latitude_n1, \n",
    "   longitude_n1, \n",
    "    radius, \n",
    "   LIMIT)\n",
    "results = requests.get(url).json()"
   ]
  },
  {
   "cell_type": "code",
   "execution_count": 23,
   "metadata": {},
   "outputs": [
    {
     "data": {
      "text/plain": [
       "Index(['referralId', 'reasons.count', 'reasons.items', 'venue.id',\n",
       "       'venue.name', 'venue.location.address', 'venue.location.crossStreet',\n",
       "       'venue.location.lat', 'venue.location.lng',\n",
       "       'venue.location.labeledLatLngs', 'venue.location.distance',\n",
       "       'venue.location.postalCode', 'venue.location.cc', 'venue.location.city',\n",
       "       'venue.location.state', 'venue.location.country',\n",
       "       'venue.location.formattedAddress', 'venue.categories',\n",
       "       'venue.photos.count', 'venue.photos.groups',\n",
       "       'venue.location.neighborhood', 'venue.venuePage.id'],\n",
       "      dtype='object')"
      ]
     },
     "execution_count": 23,
     "metadata": {},
     "output_type": "execute_result"
    }
   ],
   "source": [
    "venues=results['response']['groups'][0]['items']\n",
    "nearby_venues = json_normalize(venues)\n",
    "nearby_venues.columns"
   ]
  },
  {
   "cell_type": "code",
   "execution_count": 24,
   "metadata": {},
   "outputs": [],
   "source": [
    "def get_category_type(row):\n",
    "    try:\n",
    "        categories_list = row['categories']\n",
    "    except:\n",
    "        categories_list = row['venue.categories']\n",
    "        \n",
    "    if len(categories_list) == 0:\n",
    "        return None\n",
    "    else:\n",
    "        return categories_list[0]['name']"
   ]
  },
  {
   "cell_type": "code",
   "execution_count": 25,
   "metadata": {},
   "outputs": [
    {
     "data": {
      "text/html": [
       "<div>\n",
       "<style scoped>\n",
       "    .dataframe tbody tr th:only-of-type {\n",
       "        vertical-align: middle;\n",
       "    }\n",
       "\n",
       "    .dataframe tbody tr th {\n",
       "        vertical-align: top;\n",
       "    }\n",
       "\n",
       "    .dataframe thead th {\n",
       "        text-align: right;\n",
       "    }\n",
       "</style>\n",
       "<table border=\"1\" class=\"dataframe\">\n",
       "  <thead>\n",
       "    <tr style=\"text-align: right;\">\n",
       "      <th></th>\n",
       "      <th>venue.name</th>\n",
       "      <th>venue.categories</th>\n",
       "      <th>venue.location.lat</th>\n",
       "      <th>venue.location.lng</th>\n",
       "    </tr>\n",
       "  </thead>\n",
       "  <tbody>\n",
       "    <tr>\n",
       "      <td>0</td>\n",
       "      <td>Disney Store</td>\n",
       "      <td>[{'id': '4bf58dd8d48988d1f3941735', 'name': 'T...</td>\n",
       "      <td>43.775537</td>\n",
       "      <td>-79.256833</td>\n",
       "    </tr>\n",
       "    <tr>\n",
       "      <td>1</td>\n",
       "      <td>SEPHORA</td>\n",
       "      <td>[{'id': '4bf58dd8d48988d10c951735', 'name': 'C...</td>\n",
       "      <td>43.775017</td>\n",
       "      <td>-79.258109</td>\n",
       "    </tr>\n",
       "    <tr>\n",
       "      <td>2</td>\n",
       "      <td>St. Andrews Fish &amp; Chips</td>\n",
       "      <td>[{'id': '4edd64a0c7ddd24ca188df1a', 'name': 'F...</td>\n",
       "      <td>43.771865</td>\n",
       "      <td>-79.252645</td>\n",
       "    </tr>\n",
       "    <tr>\n",
       "      <td>3</td>\n",
       "      <td>DAVIDsTEA</td>\n",
       "      <td>[{'id': '4bf58dd8d48988d1dc931735', 'name': 'T...</td>\n",
       "      <td>43.776320</td>\n",
       "      <td>-79.258688</td>\n",
       "    </tr>\n",
       "    <tr>\n",
       "      <td>4</td>\n",
       "      <td>Tommy Hilfiger</td>\n",
       "      <td>[{'id': '4bf58dd8d48988d103951735', 'name': 'C...</td>\n",
       "      <td>43.776015</td>\n",
       "      <td>-79.257369</td>\n",
       "    </tr>\n",
       "  </tbody>\n",
       "</table>\n",
       "</div>"
      ],
      "text/plain": [
       "                 venue.name  \\\n",
       "0              Disney Store   \n",
       "1                   SEPHORA   \n",
       "2  St. Andrews Fish & Chips   \n",
       "3                 DAVIDsTEA   \n",
       "4            Tommy Hilfiger   \n",
       "\n",
       "                                    venue.categories  venue.location.lat  \\\n",
       "0  [{'id': '4bf58dd8d48988d1f3941735', 'name': 'T...           43.775537   \n",
       "1  [{'id': '4bf58dd8d48988d10c951735', 'name': 'C...           43.775017   \n",
       "2  [{'id': '4edd64a0c7ddd24ca188df1a', 'name': 'F...           43.771865   \n",
       "3  [{'id': '4bf58dd8d48988d1dc931735', 'name': 'T...           43.776320   \n",
       "4  [{'id': '4bf58dd8d48988d103951735', 'name': 'C...           43.776015   \n",
       "\n",
       "   venue.location.lng  \n",
       "0          -79.256833  \n",
       "1          -79.258109  \n",
       "2          -79.252645  \n",
       "3          -79.258688  \n",
       "4          -79.257369  "
      ]
     },
     "execution_count": 25,
     "metadata": {},
     "output_type": "execute_result"
    }
   ],
   "source": [
    "filtered_columns = ['venue.name', 'venue.categories', 'venue.location.lat', 'venue.location.lng']\n",
    "nearby_venues =nearby_venues.loc[:, filtered_columns]\n",
    "nearby_venues.head()"
   ]
  },
  {
   "cell_type": "code",
   "execution_count": 26,
   "metadata": {},
   "outputs": [
    {
     "data": {
      "text/html": [
       "<div>\n",
       "<style scoped>\n",
       "    .dataframe tbody tr th:only-of-type {\n",
       "        vertical-align: middle;\n",
       "    }\n",
       "\n",
       "    .dataframe tbody tr th {\n",
       "        vertical-align: top;\n",
       "    }\n",
       "\n",
       "    .dataframe thead th {\n",
       "        text-align: right;\n",
       "    }\n",
       "</style>\n",
       "<table border=\"1\" class=\"dataframe\">\n",
       "  <thead>\n",
       "    <tr style=\"text-align: right;\">\n",
       "      <th></th>\n",
       "      <th>name</th>\n",
       "      <th>categories</th>\n",
       "      <th>lat</th>\n",
       "      <th>lng</th>\n",
       "    </tr>\n",
       "  </thead>\n",
       "  <tbody>\n",
       "    <tr>\n",
       "      <td>0</td>\n",
       "      <td>Disney Store</td>\n",
       "      <td>Toy / Game Store</td>\n",
       "      <td>43.775537</td>\n",
       "      <td>-79.256833</td>\n",
       "    </tr>\n",
       "    <tr>\n",
       "      <td>1</td>\n",
       "      <td>SEPHORA</td>\n",
       "      <td>Cosmetics Shop</td>\n",
       "      <td>43.775017</td>\n",
       "      <td>-79.258109</td>\n",
       "    </tr>\n",
       "    <tr>\n",
       "      <td>2</td>\n",
       "      <td>St. Andrews Fish &amp; Chips</td>\n",
       "      <td>Fish &amp; Chips Shop</td>\n",
       "      <td>43.771865</td>\n",
       "      <td>-79.252645</td>\n",
       "    </tr>\n",
       "    <tr>\n",
       "      <td>3</td>\n",
       "      <td>DAVIDsTEA</td>\n",
       "      <td>Tea Room</td>\n",
       "      <td>43.776320</td>\n",
       "      <td>-79.258688</td>\n",
       "    </tr>\n",
       "    <tr>\n",
       "      <td>4</td>\n",
       "      <td>Tommy Hilfiger</td>\n",
       "      <td>Clothing Store</td>\n",
       "      <td>43.776015</td>\n",
       "      <td>-79.257369</td>\n",
       "    </tr>\n",
       "  </tbody>\n",
       "</table>\n",
       "</div>"
      ],
      "text/plain": [
       "                       name         categories        lat        lng\n",
       "0              Disney Store   Toy / Game Store  43.775537 -79.256833\n",
       "1                   SEPHORA     Cosmetics Shop  43.775017 -79.258109\n",
       "2  St. Andrews Fish & Chips  Fish & Chips Shop  43.771865 -79.252645\n",
       "3                 DAVIDsTEA           Tea Room  43.776320 -79.258688\n",
       "4            Tommy Hilfiger     Clothing Store  43.776015 -79.257369"
      ]
     },
     "execution_count": 26,
     "metadata": {},
     "output_type": "execute_result"
    }
   ],
   "source": [
    "nearby_venues['venue.categories'] = nearby_venues.apply(get_category_type, axis=1)\n",
    "\n",
    "# clean columns\n",
    "nearby_venues.columns = [col.split(\".\")[-1] for col in nearby_venues.columns]\n",
    "\n",
    "nearby_venues.head(5)"
   ]
  },
  {
   "cell_type": "code",
   "execution_count": 27,
   "metadata": {},
   "outputs": [
    {
     "data": {
      "text/plain": [
       "Clothing Store        8\n",
       "Restaurant            4\n",
       "Coffee Shop           4\n",
       "Italian Restaurant    2\n",
       "Gas Station           2\n",
       "Tea Room              2\n",
       "Pharmacy              2\n",
       "Sandwich Place        2\n",
       "Movie Theater         1\n",
       "Gym                   1\n",
       "Name: categories, dtype: int64"
      ]
     },
     "execution_count": 27,
     "metadata": {},
     "output_type": "execute_result"
    }
   ],
   "source": [
    "# Top 10 Categories\n",
    "a=pd.Series(nearby_venues.categories)\n",
    "a.value_counts()[:10]"
   ]
  },
  {
   "cell_type": "code",
   "execution_count": 28,
   "metadata": {},
   "outputs": [],
   "source": [
    "def getNearbyVenues(names, latitudes, longitudes, radius=700):\n",
    "    \n",
    "    venues_list=[]\n",
    "    for name, lat, lng in zip(names, latitudes, longitudes):\n",
    "        print(name)\n",
    "            \n",
    "        url = 'https://api.foursquare.com/v2/venues/explore?&client_id={}&client_secret={}&v={}&ll={},{}&radius={}&limit={}'.format(\n",
    "            CLIENT_ID, \n",
    "            CLIENT_SECRET, \n",
    "            VERSION, \n",
    "            lat, \n",
    "            lng, \n",
    "            radius, \n",
    "            LIMIT)\n",
    "            \n",
    "        # making GET request\n",
    "        venue_results = requests.get(url).json()[\"response\"]['groups'][0]['items']\n",
    "        \n",
    "        # return only relevant information for each nearby venue\n",
    "        venues_list.append([(\n",
    "            name, \n",
    "            lat, \n",
    "            lng, \n",
    "            v['venue']['name'], \n",
    "            v['venue']['location']['lat'], \n",
    "            v['venue']['location']['lng'],  \n",
    "            v['venue']['categories'][0]['name']) for v in venue_results])\n",
    "\n",
    "    nearby_venues = pd.DataFrame([item for venue_list in venues_list for item in venue_list])\n",
    "    nearby_venues.columns = ['Neighborhood', \n",
    "                  'Neighborhood Latitude', \n",
    "                  'Neighborhood Longitude', \n",
    "                  'Venue', \n",
    "                  'Venue Latitude', \n",
    "                  'Venue Longitude', \n",
    "                  'Venue Category']\n",
    "    \n",
    "    return(nearby_venues)"
   ]
  },
  {
   "cell_type": "code",
   "execution_count": 47,
   "metadata": {},
   "outputs": [
    {
     "name": "stdout",
     "output_type": "stream",
     "text": [
      "Not assigned\n",
      "\n",
      "Malvern, Rouge\n",
      "Rouge Hill, Port Union, Highland Creek\n",
      "Guildwood, Morningside, West Hill\n",
      "Woburn\n",
      "Cedarbrae\n",
      "Scarborough Village\n",
      "Kennedy Park, Ionview, East Birchmount Park\n",
      "Golden Mile, Clairlea, Oakridge\n",
      "Cliffside, Cliffcrest, Scarborough Village West\n",
      "Birch Cliff, Cliffside West\n",
      "Dorset Park, Wexford Heights, Scarborough Town Centre\n",
      "Wexford, Maryvale\n",
      "Agincourt\n",
      "Clarks Corners, Tam O'Shanter, Sullivan\n",
      "Milliken, Agincourt North, Steeles East, L'Amoreaux East\n",
      "Steeles West, L'Amoreaux West\n",
      "Upper Rouge\n",
      "Not assigned\n",
      "\n",
      "Not assigned\n",
      "\n",
      "Not assigned\n",
      "\n",
      "Not assigned\n",
      "\n",
      "Not assigned\n",
      "\n",
      "Not assigned\n",
      "\n",
      "Not assigned\n",
      "\n",
      "Hillcrest Village\n",
      "Fairview, Henry Farm, Oriole\n",
      "Bayview Village\n",
      "York Mills, Silver Hills\n",
      "Willowdale, Newtonbrook\n",
      "Willowdale, Willowdale East\n",
      "York Mills West\n",
      "Willowdale, Willowdale West\n",
      "Not assigned\n",
      "\n",
      "Not assigned\n",
      "\n",
      "Not assigned\n",
      "\n",
      "Not assigned\n",
      "\n",
      "Not assigned\n",
      "\n",
      "Not assigned\n",
      "\n",
      "Not assigned\n",
      "\n",
      "Parkwoods\n",
      "Don Mills\n",
      "Don Mills\n",
      "Not assigned\n",
      "\n",
      "Not assigned\n",
      "\n",
      "Bathurst Manor, Wilson Heights, Downsview North\n",
      "Northwood Park, York University\n",
      "Downsview\n",
      "Downsview\n",
      "Downsview\n",
      "Downsview\n",
      "Not assigned\n",
      "\n",
      "Not assigned\n",
      "\n",
      "Not assigned\n",
      "\n",
      "Not assigned\n",
      "\n",
      "Not assigned\n",
      "\n",
      "Not assigned\n",
      "\n",
      "Not assigned\n",
      "\n",
      "Not assigned\n",
      "\n",
      "Not assigned\n",
      "\n",
      "Victoria Village\n",
      "Parkview Hill, Woodbine Gardens\n",
      "Woodbine Heights\n",
      "The Beaches\n",
      "Leaside\n",
      "Thorncliffe Park\n",
      "East Toronto, Broadview North (Old East York)\n",
      "The Danforth West, Riverdale\n",
      "India Bazaar, The Beaches West\n",
      "Studio District\n",
      "Lawrence Park\n",
      "Davisville North\n",
      "North Toronto West,  Lawrence Park\n",
      "Davisville\n",
      "Moore Park, Summerhill East\n",
      "Summerhill West, Rathnelly, South Hill, Forest Hill SE, Deer Park\n",
      "Rosedale\n",
      "St. James Town, Cabbagetown\n",
      "Church and Wellesley\n",
      "Not assigned\n",
      "\n",
      "Regent Park, Harbourfront\n",
      "Garden District, Ryerson\n",
      "St. James Town\n",
      "Berczy Park\n",
      "Central Bay Street\n",
      "Richmond, Adelaide, King\n",
      "Harbourfront East, Union Station, Toronto Islands\n",
      "Toronto Dominion Centre, Design Exchange\n",
      "Commerce Court, Victoria Hotel\n",
      "Bedford Park, Lawrence Manor East\n",
      "Roselawn\n",
      "Forest Hill North & West, Forest Hill Road Park\n",
      "The Annex, North Midtown, Yorkville\n",
      "University of Toronto, Harbord\n",
      "Kensington Market, Chinatown, Grange Park\n"
     ]
    },
    {
     "ename": "KeyError",
     "evalue": "'groups'",
     "output_type": "error",
     "traceback": [
      "\u001b[1;31m---------------------------------------------------------------------------\u001b[0m",
      "\u001b[1;31mKeyError\u001b[0m                                  Traceback (most recent call last)",
      "\u001b[1;32m<ipython-input-47-bf6304d7e1af>\u001b[0m in \u001b[0;36m<module>\u001b[1;34m\u001b[0m\n\u001b[0;32m      2\u001b[0m Scarborough_venues = getNearbyVenues(names=df_2['Neighborhood'],\n\u001b[0;32m      3\u001b[0m                                    \u001b[0mlatitudes\u001b[0m\u001b[1;33m=\u001b[0m\u001b[0mdf_2\u001b[0m\u001b[1;33m[\u001b[0m\u001b[1;34m'Latitude'\u001b[0m\u001b[1;33m]\u001b[0m\u001b[1;33m,\u001b[0m\u001b[1;33m\u001b[0m\u001b[1;33m\u001b[0m\u001b[0m\n\u001b[1;32m----> 4\u001b[1;33m                                    longitudes=df_2['Longitude'])\n\u001b[0m\u001b[0;32m      5\u001b[0m \u001b[1;33m\u001b[0m\u001b[0m\n",
      "\u001b[1;32m<ipython-input-28-4cefc429cb06>\u001b[0m in \u001b[0;36mgetNearbyVenues\u001b[1;34m(names, latitudes, longitudes, radius)\u001b[0m\n\u001b[0;32m     15\u001b[0m \u001b[1;33m\u001b[0m\u001b[0m\n\u001b[0;32m     16\u001b[0m         \u001b[1;31m# making GET request\u001b[0m\u001b[1;33m\u001b[0m\u001b[1;33m\u001b[0m\u001b[1;33m\u001b[0m\u001b[0m\n\u001b[1;32m---> 17\u001b[1;33m         \u001b[0mvenue_results\u001b[0m \u001b[1;33m=\u001b[0m \u001b[0mrequests\u001b[0m\u001b[1;33m.\u001b[0m\u001b[0mget\u001b[0m\u001b[1;33m(\u001b[0m\u001b[0murl\u001b[0m\u001b[1;33m)\u001b[0m\u001b[1;33m.\u001b[0m\u001b[0mjson\u001b[0m\u001b[1;33m(\u001b[0m\u001b[1;33m)\u001b[0m\u001b[1;33m[\u001b[0m\u001b[1;34m\"response\"\u001b[0m\u001b[1;33m]\u001b[0m\u001b[1;33m[\u001b[0m\u001b[1;34m'groups'\u001b[0m\u001b[1;33m]\u001b[0m\u001b[1;33m[\u001b[0m\u001b[1;36m0\u001b[0m\u001b[1;33m]\u001b[0m\u001b[1;33m[\u001b[0m\u001b[1;34m'items'\u001b[0m\u001b[1;33m]\u001b[0m\u001b[1;33m\u001b[0m\u001b[1;33m\u001b[0m\u001b[0m\n\u001b[0m\u001b[0;32m     18\u001b[0m \u001b[1;33m\u001b[0m\u001b[0m\n\u001b[0;32m     19\u001b[0m         \u001b[1;31m# return only relevant information for each nearby venue\u001b[0m\u001b[1;33m\u001b[0m\u001b[1;33m\u001b[0m\u001b[1;33m\u001b[0m\u001b[0m\n",
      "\u001b[1;31mKeyError\u001b[0m: 'groups'"
     ]
    }
   ],
   "source": [
    "# Nearby Venues\n",
    "Scarborough_venues = getNearbyVenues(names=df_2['Neighborhood'],\n",
    "                                   latitudes=df_2['Latitude'],\n",
    "                                   longitudes=df_2['Longitude'])\n",
    "                                  "
   ]
  },
  {
   "cell_type": "code",
   "execution_count": 30,
   "metadata": {},
   "outputs": [
    {
     "ename": "NameError",
     "evalue": "name 'Scarborough_venues' is not defined",
     "output_type": "error",
     "traceback": [
      "\u001b[1;31m---------------------------------------------------------------------------\u001b[0m",
      "\u001b[1;31mNameError\u001b[0m                                 Traceback (most recent call last)",
      "\u001b[1;32m<ipython-input-30-3399c4e66d67>\u001b[0m in \u001b[0;36m<module>\u001b[1;34m\u001b[0m\n\u001b[1;32m----> 1\u001b[1;33m \u001b[0mprint\u001b[0m\u001b[1;33m(\u001b[0m\u001b[1;34m'There are {} Uniques Categories.'\u001b[0m\u001b[1;33m.\u001b[0m\u001b[0mformat\u001b[0m\u001b[1;33m(\u001b[0m\u001b[0mlen\u001b[0m\u001b[1;33m(\u001b[0m\u001b[0mScarborough_venues\u001b[0m\u001b[1;33m[\u001b[0m\u001b[1;34m'Venue Category'\u001b[0m\u001b[1;33m]\u001b[0m\u001b[1;33m.\u001b[0m\u001b[0munique\u001b[0m\u001b[1;33m(\u001b[0m\u001b[1;33m)\u001b[0m\u001b[1;33m)\u001b[0m\u001b[1;33m)\u001b[0m\u001b[1;33m)\u001b[0m\u001b[1;33m\u001b[0m\u001b[1;33m\u001b[0m\u001b[0m\n\u001b[0m\u001b[0;32m      2\u001b[0m \u001b[0mScarborough_venues\u001b[0m\u001b[1;33m.\u001b[0m\u001b[0mgroupby\u001b[0m\u001b[1;33m(\u001b[0m\u001b[1;34m'Neighborhood'\u001b[0m\u001b[1;33m)\u001b[0m\u001b[1;33m.\u001b[0m\u001b[0mcount\u001b[0m\u001b[1;33m(\u001b[0m\u001b[1;33m)\u001b[0m\u001b[1;33m.\u001b[0m\u001b[0mhead\u001b[0m\u001b[1;33m(\u001b[0m\u001b[1;33m)\u001b[0m\u001b[1;33m\u001b[0m\u001b[1;33m\u001b[0m\u001b[0m\n",
      "\u001b[1;31mNameError\u001b[0m: name 'Scarborough_venues' is not defined"
     ]
    }
   ],
   "source": [
    "print('There are {} Uniques Categories.'.format(len(Scarborough_venues['Venue Category'].unique())))\n",
    "Scarborough_venues.groupby('Neighborhood').count().head()"
   ]
  },
  {
   "cell_type": "code",
   "execution_count": 31,
   "metadata": {},
   "outputs": [
    {
     "ename": "NameError",
     "evalue": "name 'Scarborough_venues' is not defined",
     "output_type": "error",
     "traceback": [
      "\u001b[1;31m---------------------------------------------------------------------------\u001b[0m",
      "\u001b[1;31mNameError\u001b[0m                                 Traceback (most recent call last)",
      "\u001b[1;32m<ipython-input-31-dd2ee84baf14>\u001b[0m in \u001b[0;36m<module>\u001b[1;34m\u001b[0m\n\u001b[0;32m      1\u001b[0m \u001b[1;31m# one hot encoding\u001b[0m\u001b[1;33m\u001b[0m\u001b[1;33m\u001b[0m\u001b[1;33m\u001b[0m\u001b[0m\n\u001b[1;32m----> 2\u001b[1;33m \u001b[0mScarborough_onehot\u001b[0m \u001b[1;33m=\u001b[0m \u001b[0mpd\u001b[0m\u001b[1;33m.\u001b[0m\u001b[0mget_dummies\u001b[0m\u001b[1;33m(\u001b[0m\u001b[0mScarborough_venues\u001b[0m\u001b[1;33m[\u001b[0m\u001b[1;33m[\u001b[0m\u001b[1;34m'Venue Category'\u001b[0m\u001b[1;33m]\u001b[0m\u001b[1;33m]\u001b[0m\u001b[1;33m,\u001b[0m \u001b[0mprefix\u001b[0m\u001b[1;33m=\u001b[0m\u001b[1;34m\"\"\u001b[0m\u001b[1;33m,\u001b[0m \u001b[0mprefix_sep\u001b[0m\u001b[1;33m=\u001b[0m\u001b[1;34m\"\"\u001b[0m\u001b[1;33m)\u001b[0m\u001b[1;33m\u001b[0m\u001b[1;33m\u001b[0m\u001b[0m\n\u001b[0m\u001b[0;32m      3\u001b[0m \u001b[1;33m\u001b[0m\u001b[0m\n\u001b[0;32m      4\u001b[0m \u001b[1;31m# add neighborhood column back to dataframe\u001b[0m\u001b[1;33m\u001b[0m\u001b[1;33m\u001b[0m\u001b[1;33m\u001b[0m\u001b[0m\n\u001b[0;32m      5\u001b[0m \u001b[0mScarborough_onehot\u001b[0m\u001b[1;33m[\u001b[0m\u001b[1;34m'Neighborhood'\u001b[0m\u001b[1;33m]\u001b[0m \u001b[1;33m=\u001b[0m \u001b[0mScarborough_venues\u001b[0m\u001b[1;33m[\u001b[0m\u001b[1;34m'Neighborhood'\u001b[0m\u001b[1;33m]\u001b[0m\u001b[1;33m\u001b[0m\u001b[1;33m\u001b[0m\u001b[0m\n",
      "\u001b[1;31mNameError\u001b[0m: name 'Scarborough_venues' is not defined"
     ]
    }
   ],
   "source": [
    "# one hot encoding\n",
    "Scarborough_onehot = pd.get_dummies(Scarborough_venues[['Venue Category']], prefix=\"\", prefix_sep=\"\")\n",
    "\n",
    "# add neighborhood column back to dataframe\n",
    "Scarborough_onehot['Neighborhood'] = Scarborough_venues['Neighborhood'] \n",
    "\n",
    "# move neighborhood column to the first column\n",
    "fixed_columns = [Scarborough_onehot.columns[-1]] + list(Scarborough_onehot.columns[:-1])\n",
    "Scarborough_onehot = Scarborough_onehot[fixed_columns]\n",
    "Scarborough_grouped = Scarborough_onehot.groupby('Neighborhood').mean().reset_index()\n",
    "Scarborough_onehot.head(5)"
   ]
  },
  {
   "cell_type": "code",
   "execution_count": 32,
   "metadata": {},
   "outputs": [
    {
     "ename": "NameError",
     "evalue": "name 'Scarborough_grouped' is not defined",
     "output_type": "error",
     "traceback": [
      "\u001b[1;31m---------------------------------------------------------------------------\u001b[0m",
      "\u001b[1;31mNameError\u001b[0m                                 Traceback (most recent call last)",
      "\u001b[1;32m<ipython-input-32-581e709fad44>\u001b[0m in \u001b[0;36m<module>\u001b[1;34m\u001b[0m\n\u001b[0;32m      1\u001b[0m \u001b[0mnum_top_venues\u001b[0m \u001b[1;33m=\u001b[0m \u001b[1;36m5\u001b[0m\u001b[1;33m\u001b[0m\u001b[1;33m\u001b[0m\u001b[0m\n\u001b[1;32m----> 2\u001b[1;33m \u001b[1;32mfor\u001b[0m \u001b[0mhood\u001b[0m \u001b[1;32min\u001b[0m \u001b[0mScarborough_grouped\u001b[0m\u001b[1;33m[\u001b[0m\u001b[1;34m'Neighborhood'\u001b[0m\u001b[1;33m]\u001b[0m\u001b[1;33m:\u001b[0m\u001b[1;33m\u001b[0m\u001b[1;33m\u001b[0m\u001b[0m\n\u001b[0m\u001b[0;32m      3\u001b[0m     \u001b[0mprint\u001b[0m\u001b[1;33m(\u001b[0m\u001b[1;34m\"---- \"\u001b[0m\u001b[1;33m+\u001b[0m\u001b[0mhood\u001b[0m\u001b[1;33m+\u001b[0m\u001b[1;34m\" ----\"\u001b[0m\u001b[1;33m)\u001b[0m\u001b[1;33m\u001b[0m\u001b[1;33m\u001b[0m\u001b[0m\n\u001b[0;32m      4\u001b[0m     \u001b[0mtemp\u001b[0m \u001b[1;33m=\u001b[0m\u001b[0mScarborough_grouped\u001b[0m\u001b[1;33m[\u001b[0m\u001b[0mScarborough_grouped\u001b[0m\u001b[1;33m[\u001b[0m\u001b[1;34m'Neighborhood'\u001b[0m\u001b[1;33m]\u001b[0m \u001b[1;33m==\u001b[0m \u001b[0mhood\u001b[0m\u001b[1;33m]\u001b[0m\u001b[1;33m.\u001b[0m\u001b[0mT\u001b[0m\u001b[1;33m.\u001b[0m\u001b[0mreset_index\u001b[0m\u001b[1;33m(\u001b[0m\u001b[1;33m)\u001b[0m\u001b[1;33m\u001b[0m\u001b[1;33m\u001b[0m\u001b[0m\n\u001b[0;32m      5\u001b[0m     \u001b[0mtemp\u001b[0m\u001b[1;33m.\u001b[0m\u001b[0mcolumns\u001b[0m \u001b[1;33m=\u001b[0m \u001b[1;33m[\u001b[0m\u001b[1;34m'venue'\u001b[0m\u001b[1;33m,\u001b[0m\u001b[1;34m'freq'\u001b[0m\u001b[1;33m]\u001b[0m\u001b[1;33m\u001b[0m\u001b[1;33m\u001b[0m\u001b[0m\n",
      "\u001b[1;31mNameError\u001b[0m: name 'Scarborough_grouped' is not defined"
     ]
    }
   ],
   "source": [
    "num_top_venues = 5\n",
    "for hood in Scarborough_grouped['Neighborhood']:\n",
    "    print(\"---- \"+hood+\" ----\")\n",
    "    temp =Scarborough_grouped[Scarborough_grouped['Neighborhood'] == hood].T.reset_index()\n",
    "    temp.columns = ['venue','freq']\n",
    "    temp = temp.iloc[1:]\n",
    "    temp['freq'] = temp['freq'].astype(float)\n",
    "    temp = temp.round({'freq': 2})\n",
    "    print(temp.sort_values('freq', ascending=False).reset_index(drop=True).head(num_top_venues))\n",
    "    print('\\n')"
   ]
  },
  {
   "cell_type": "code",
   "execution_count": 33,
   "metadata": {},
   "outputs": [],
   "source": [
    "def return_most_common_venues(row, num_top_venues):\n",
    "    row_categories = row.iloc[1:]\n",
    "    row_categories_sorted = row_categories.sort_values(ascending=False)\n",
    "    \n",
    "    return row_categories_sorted.index.values[0:num_top_venues]"
   ]
  },
  {
   "cell_type": "code",
   "execution_count": 34,
   "metadata": {},
   "outputs": [
    {
     "ename": "NameError",
     "evalue": "name 'Scarborough_grouped' is not defined",
     "output_type": "error",
     "traceback": [
      "\u001b[1;31m---------------------------------------------------------------------------\u001b[0m",
      "\u001b[1;31mNameError\u001b[0m                                 Traceback (most recent call last)",
      "\u001b[1;32m<ipython-input-34-ce87bc4c04f8>\u001b[0m in \u001b[0;36m<module>\u001b[1;34m\u001b[0m\n\u001b[0;32m     12\u001b[0m \u001b[1;33m\u001b[0m\u001b[0m\n\u001b[0;32m     13\u001b[0m \u001b[0mneighborhoods_venues_sorted\u001b[0m \u001b[1;33m=\u001b[0m \u001b[0mpd\u001b[0m\u001b[1;33m.\u001b[0m\u001b[0mDataFrame\u001b[0m\u001b[1;33m(\u001b[0m\u001b[0mcolumns\u001b[0m\u001b[1;33m=\u001b[0m\u001b[0mcolumns\u001b[0m\u001b[1;33m)\u001b[0m\u001b[1;33m\u001b[0m\u001b[1;33m\u001b[0m\u001b[0m\n\u001b[1;32m---> 14\u001b[1;33m \u001b[0mneighborhoods_venues_sorted\u001b[0m\u001b[1;33m[\u001b[0m\u001b[1;34m'Neighborhood'\u001b[0m\u001b[1;33m]\u001b[0m \u001b[1;33m=\u001b[0m \u001b[0mScarborough_grouped\u001b[0m\u001b[1;33m[\u001b[0m\u001b[1;34m'Neighborhood'\u001b[0m\u001b[1;33m]\u001b[0m\u001b[1;33m\u001b[0m\u001b[1;33m\u001b[0m\u001b[0m\n\u001b[0m\u001b[0;32m     15\u001b[0m \u001b[1;33m\u001b[0m\u001b[0m\n\u001b[0;32m     16\u001b[0m \u001b[1;32mfor\u001b[0m \u001b[0mind\u001b[0m \u001b[1;32min\u001b[0m \u001b[0mnp\u001b[0m\u001b[1;33m.\u001b[0m\u001b[0marange\u001b[0m\u001b[1;33m(\u001b[0m\u001b[0mScarborough_grouped\u001b[0m\u001b[1;33m.\u001b[0m\u001b[0mshape\u001b[0m\u001b[1;33m[\u001b[0m\u001b[1;36m0\u001b[0m\u001b[1;33m]\u001b[0m\u001b[1;33m)\u001b[0m\u001b[1;33m:\u001b[0m\u001b[1;33m\u001b[0m\u001b[1;33m\u001b[0m\u001b[0m\n",
      "\u001b[1;31mNameError\u001b[0m: name 'Scarborough_grouped' is not defined"
     ]
    }
   ],
   "source": [
    "import numpy as np\n",
    "num_top_venues = 10\n",
    "\n",
    "indicators = ['st', 'nd', 'rd']\n",
    "\n",
    "columns = ['Neighborhood']\n",
    "for ind in np.arange(num_top_venues):\n",
    "    try:\n",
    "        columns.append('{}{} Most Common Venue'.format(ind+1, indicators[ind]))\n",
    "    except:\n",
    "        columns.append('{}th Most Common Venue'.format(ind+1))\n",
    "\n",
    "neighborhoods_venues_sorted = pd.DataFrame(columns=columns)\n",
    "neighborhoods_venues_sorted['Neighborhood'] = Scarborough_grouped['Neighborhood']\n",
    "\n",
    "for ind in np.arange(Scarborough_grouped.shape[0]):\n",
    "    neighborhoods_venues_sorted.iloc[ind, 1:] = return_most_common_venues(Scarborough_grouped.iloc[ind, :], num_top_venues)\n",
    "\n",
    "neighborhoods_venues_sorted.head()"
   ]
  },
  {
   "cell_type": "code",
   "execution_count": 35,
   "metadata": {},
   "outputs": [
    {
     "ename": "NameError",
     "evalue": "name 'Scarborough_grouped' is not defined",
     "output_type": "error",
     "traceback": [
      "\u001b[1;31m---------------------------------------------------------------------------\u001b[0m",
      "\u001b[1;31mNameError\u001b[0m                                 Traceback (most recent call last)",
      "\u001b[1;32m<ipython-input-35-7c1673861f03>\u001b[0m in \u001b[0;36m<module>\u001b[1;34m\u001b[0m\n\u001b[0;32m      1\u001b[0m \u001b[1;31m# Using K-Means to cluster neighborhood into 3 clusters\u001b[0m\u001b[1;33m\u001b[0m\u001b[1;33m\u001b[0m\u001b[1;33m\u001b[0m\u001b[0m\n\u001b[1;32m----> 2\u001b[1;33m \u001b[0mScarborough_grouped_clustering\u001b[0m \u001b[1;33m=\u001b[0m \u001b[0mScarborough_grouped\u001b[0m\u001b[1;33m.\u001b[0m\u001b[0mdrop\u001b[0m\u001b[1;33m(\u001b[0m\u001b[1;34m'Neighborhood'\u001b[0m\u001b[1;33m,\u001b[0m \u001b[1;36m1\u001b[0m\u001b[1;33m)\u001b[0m\u001b[1;33m\u001b[0m\u001b[1;33m\u001b[0m\u001b[0m\n\u001b[0m\u001b[0;32m      3\u001b[0m \u001b[0mkmeans\u001b[0m \u001b[1;33m=\u001b[0m \u001b[0mKMeans\u001b[0m\u001b[1;33m(\u001b[0m\u001b[0mn_clusters\u001b[0m\u001b[1;33m=\u001b[0m\u001b[1;36m3\u001b[0m\u001b[1;33m,\u001b[0m \u001b[0mrandom_state\u001b[0m\u001b[1;33m=\u001b[0m\u001b[1;36m0\u001b[0m\u001b[1;33m)\u001b[0m\u001b[1;33m.\u001b[0m\u001b[0mfit\u001b[0m\u001b[1;33m(\u001b[0m\u001b[0mScarborough_grouped_clustering\u001b[0m\u001b[1;33m)\u001b[0m\u001b[1;33m\u001b[0m\u001b[1;33m\u001b[0m\u001b[0m\n\u001b[0;32m      4\u001b[0m \u001b[0mkmeans\u001b[0m\u001b[1;33m.\u001b[0m\u001b[0mlabels_\u001b[0m\u001b[1;33m\u001b[0m\u001b[1;33m\u001b[0m\u001b[0m\n",
      "\u001b[1;31mNameError\u001b[0m: name 'Scarborough_grouped' is not defined"
     ]
    }
   ],
   "source": [
    "# Using K-Means to cluster neighborhood into 3 clusters\n",
    "Scarborough_grouped_clustering = Scarborough_grouped.drop('Neighborhood', 1)\n",
    "kmeans = KMeans(n_clusters=3, random_state=0).fit(Scarborough_grouped_clustering)\n",
    "kmeans.labels_"
   ]
  },
  {
   "cell_type": "code",
   "execution_count": 36,
   "metadata": {},
   "outputs": [
    {
     "ename": "NameError",
     "evalue": "name 'kmeans' is not defined",
     "output_type": "error",
     "traceback": [
      "\u001b[1;31m---------------------------------------------------------------------------\u001b[0m",
      "\u001b[1;31mNameError\u001b[0m                                 Traceback (most recent call last)",
      "\u001b[1;32m<ipython-input-36-05eb80dea057>\u001b[0m in \u001b[0;36m<module>\u001b[1;34m\u001b[0m\n\u001b[1;32m----> 1\u001b[1;33m \u001b[0mneighborhoods_venues_sorted\u001b[0m\u001b[1;33m.\u001b[0m\u001b[0minsert\u001b[0m\u001b[1;33m(\u001b[0m\u001b[1;36m0\u001b[0m\u001b[1;33m,\u001b[0m \u001b[1;34m'Cluster Labels'\u001b[0m\u001b[1;33m,\u001b[0m \u001b[0mkmeans\u001b[0m\u001b[1;33m.\u001b[0m\u001b[0mlabels_\u001b[0m\u001b[1;33m)\u001b[0m\u001b[1;33m\u001b[0m\u001b[1;33m\u001b[0m\u001b[0m\n\u001b[0m\u001b[0;32m      2\u001b[0m \u001b[1;33m\u001b[0m\u001b[0m\n\u001b[0;32m      3\u001b[0m \u001b[0mScarborough_merged\u001b[0m \u001b[1;33m=\u001b[0m\u001b[0mdf_2\u001b[0m\u001b[1;33m.\u001b[0m\u001b[0miloc\u001b[0m\u001b[1;33m[\u001b[0m\u001b[1;33m:\u001b[0m\u001b[1;36m16\u001b[0m\u001b[1;33m,\u001b[0m\u001b[1;33m:\u001b[0m\u001b[1;33m]\u001b[0m\u001b[1;33m\u001b[0m\u001b[1;33m\u001b[0m\u001b[0m\n\u001b[0;32m      4\u001b[0m \u001b[1;33m\u001b[0m\u001b[0m\n\u001b[0;32m      5\u001b[0m \u001b[1;31m# merge toronto_grouped with toronto_data to add latitude/longitude for each neighborhood\u001b[0m\u001b[1;33m\u001b[0m\u001b[1;33m\u001b[0m\u001b[1;33m\u001b[0m\u001b[0m\n",
      "\u001b[1;31mNameError\u001b[0m: name 'kmeans' is not defined"
     ]
    }
   ],
   "source": [
    "neighborhoods_venues_sorted.insert(0, 'Cluster Labels', kmeans.labels_)\n",
    "\n",
    "Scarborough_merged =df_2.iloc[:16,:]\n",
    "\n",
    "# merge toronto_grouped with toronto_data to add latitude/longitude for each neighborhood\n",
    "Scarborough_merged = Scarborough_merged.join(neighborhoods_venues_sorted.set_index('Neighborhood'), on='Neighborhood')\n",
    "\n",
    "Scarborough_merged.head()# check the last columns!"
   ]
  },
  {
   "cell_type": "code",
   "execution_count": 37,
   "metadata": {},
   "outputs": [],
   "source": [
    "kclusters = 10"
   ]
  },
  {
   "cell_type": "code",
   "execution_count": 38,
   "metadata": {},
   "outputs": [
    {
     "name": "stdout",
     "output_type": "stream",
     "text": [
      "['#8000ff', '#4856fb', '#10a2f0', '#2adddd', '#62fbc4', '#9cfba4', '#d4dd80', '#ffa256', '#ff562c', '#ff0000']\n"
     ]
    },
    {
     "ename": "NameError",
     "evalue": "name 'Scarborough_merged' is not defined",
     "output_type": "error",
     "traceback": [
      "\u001b[1;31m---------------------------------------------------------------------------\u001b[0m",
      "\u001b[1;31mNameError\u001b[0m                                 Traceback (most recent call last)",
      "\u001b[1;32m<ipython-input-38-52b8e732212c>\u001b[0m in \u001b[0;36m<module>\u001b[1;34m\u001b[0m\n\u001b[0;32m     10\u001b[0m \u001b[1;33m\u001b[0m\u001b[0m\n\u001b[0;32m     11\u001b[0m \u001b[0mmarkers_colors\u001b[0m \u001b[1;33m=\u001b[0m \u001b[1;33m[\u001b[0m\u001b[1;33m]\u001b[0m\u001b[1;33m\u001b[0m\u001b[1;33m\u001b[0m\u001b[0m\n\u001b[1;32m---> 12\u001b[1;33m for lat, lon, nei , cluster in zip(Scarborough_merged['Latitude'], \n\u001b[0m\u001b[0;32m     13\u001b[0m                                    \u001b[0mScarborough_merged\u001b[0m\u001b[1;33m[\u001b[0m\u001b[1;34m'Longitude'\u001b[0m\u001b[1;33m]\u001b[0m\u001b[1;33m,\u001b[0m\u001b[1;33m\u001b[0m\u001b[1;33m\u001b[0m\u001b[0m\n\u001b[0;32m     14\u001b[0m                                    \u001b[0mScarborough_merged\u001b[0m\u001b[1;33m[\u001b[0m\u001b[1;34m'Neighborhood'\u001b[0m\u001b[1;33m]\u001b[0m\u001b[1;33m,\u001b[0m\u001b[1;33m\u001b[0m\u001b[1;33m\u001b[0m\u001b[0m\n",
      "\u001b[1;31mNameError\u001b[0m: name 'Scarborough_merged' is not defined"
     ]
    }
   ],
   "source": [
    "# create map\n",
    "map_clusters = folium.Map(location=[latitude_x, longitude_y], zoom_start=11)\n",
    "\n",
    "# set color scheme for the clusters\n",
    "x = np.arange(kclusters)\n",
    "colors_array = cm.rainbow(np.linspace(0, 1, kclusters))\n",
    "rainbow = [colors.rgb2hex(i) for i in colors_array]\n",
    "print(rainbow)\n",
    "# add markers to the map\n",
    "\n",
    "markers_colors = []\n",
    "for lat, lon, nei , cluster in zip(Scarborough_merged['Latitude'], \n",
    "                                   Scarborough_merged['Longitude'], \n",
    "                                   Scarborough_merged['Neighborhood'], \n",
    "                                   Scarborough_merged['Cluster Labels']):\n",
    "    label = folium.Popup(str(nei) + ' Cluster ' + str(cluster), parse_html=True)\n",
    "    folium.CircleMarker(\n",
    "        [lat, lon],\n",
    "        radius=5,\n",
    "        popup=label,\n",
    "        color=rainbow[cluster-1],\n",
    "        fill=True,\n",
    "        fill_color=rainbow[cluster-1],\n",
    "        fill_opacity=0.7).add_to(map_clusters)\n",
    "       \n",
    "map_clusters"
   ]
  },
  {
   "cell_type": "code",
   "execution_count": 39,
   "metadata": {},
   "outputs": [
    {
     "ename": "NameError",
     "evalue": "name 'Scarborough_merged' is not defined",
     "output_type": "error",
     "traceback": [
      "\u001b[1;31m---------------------------------------------------------------------------\u001b[0m",
      "\u001b[1;31mNameError\u001b[0m                                 Traceback (most recent call last)",
      "\u001b[1;32m<ipython-input-39-6d554ed81449>\u001b[0m in \u001b[0;36m<module>\u001b[1;34m\u001b[0m\n\u001b[1;32m----> 1\u001b[1;33m \u001b[0mdf1\u001b[0m\u001b[1;33m=\u001b[0m\u001b[0mScarborough_merged\u001b[0m\u001b[1;33m.\u001b[0m\u001b[0mloc\u001b[0m\u001b[1;33m[\u001b[0m\u001b[0mScarborough_merged\u001b[0m\u001b[1;33m[\u001b[0m\u001b[1;34m'Cluster Labels'\u001b[0m\u001b[1;33m]\u001b[0m \u001b[1;33m==\u001b[0m \u001b[1;36m0\u001b[0m\u001b[1;33m,\u001b[0m\u001b[0mScarborough_merged\u001b[0m\u001b[1;33m.\u001b[0m\u001b[0mcolumns\u001b[0m\u001b[1;33m[\u001b[0m\u001b[1;33m[\u001b[0m\u001b[1;36m2\u001b[0m\u001b[1;33m]\u001b[0m \u001b[1;33m+\u001b[0m \u001b[0mlist\u001b[0m\u001b[1;33m(\u001b[0m\u001b[0mrange\u001b[0m\u001b[1;33m(\u001b[0m\u001b[1;36m5\u001b[0m\u001b[1;33m,\u001b[0m \u001b[0mScarborough_merged\u001b[0m\u001b[1;33m.\u001b[0m\u001b[0mshape\u001b[0m\u001b[1;33m[\u001b[0m\u001b[1;36m1\u001b[0m\u001b[1;33m]\u001b[0m\u001b[1;33m)\u001b[0m\u001b[1;33m)\u001b[0m\u001b[1;33m]\u001b[0m\u001b[1;33m]\u001b[0m\u001b[1;33m\u001b[0m\u001b[1;33m\u001b[0m\u001b[0m\n\u001b[0m\u001b[0;32m      2\u001b[0m \u001b[0mdf2\u001b[0m\u001b[1;33m=\u001b[0m\u001b[0mScarborough_merged\u001b[0m\u001b[1;33m.\u001b[0m\u001b[0mloc\u001b[0m\u001b[1;33m[\u001b[0m\u001b[0mScarborough_merged\u001b[0m\u001b[1;33m[\u001b[0m\u001b[1;34m'Cluster Labels'\u001b[0m\u001b[1;33m]\u001b[0m \u001b[1;33m==\u001b[0m \u001b[1;36m1\u001b[0m\u001b[1;33m,\u001b[0m\u001b[0mScarborough_merged\u001b[0m\u001b[1;33m.\u001b[0m\u001b[0mcolumns\u001b[0m\u001b[1;33m[\u001b[0m\u001b[1;33m[\u001b[0m\u001b[1;36m2\u001b[0m\u001b[1;33m]\u001b[0m \u001b[1;33m+\u001b[0m \u001b[0mlist\u001b[0m\u001b[1;33m(\u001b[0m\u001b[0mrange\u001b[0m\u001b[1;33m(\u001b[0m\u001b[1;36m5\u001b[0m\u001b[1;33m,\u001b[0m \u001b[0mScarborough_merged\u001b[0m\u001b[1;33m.\u001b[0m\u001b[0mshape\u001b[0m\u001b[1;33m[\u001b[0m\u001b[1;36m1\u001b[0m\u001b[1;33m]\u001b[0m\u001b[1;33m)\u001b[0m\u001b[1;33m)\u001b[0m\u001b[1;33m]\u001b[0m\u001b[1;33m]\u001b[0m\u001b[1;33m\u001b[0m\u001b[1;33m\u001b[0m\u001b[0m\n\u001b[0;32m      3\u001b[0m \u001b[0mdf3\u001b[0m\u001b[1;33m=\u001b[0m\u001b[0mScarborough_merged\u001b[0m\u001b[1;33m.\u001b[0m\u001b[0mloc\u001b[0m\u001b[1;33m[\u001b[0m\u001b[0mScarborough_merged\u001b[0m\u001b[1;33m[\u001b[0m\u001b[1;34m'Cluster Labels'\u001b[0m\u001b[1;33m]\u001b[0m \u001b[1;33m==\u001b[0m \u001b[1;36m2\u001b[0m\u001b[1;33m,\u001b[0m\u001b[0mScarborough_merged\u001b[0m\u001b[1;33m.\u001b[0m\u001b[0mcolumns\u001b[0m\u001b[1;33m[\u001b[0m\u001b[1;33m[\u001b[0m\u001b[1;36m2\u001b[0m\u001b[1;33m]\u001b[0m \u001b[1;33m+\u001b[0m \u001b[0mlist\u001b[0m\u001b[1;33m(\u001b[0m\u001b[0mrange\u001b[0m\u001b[1;33m(\u001b[0m\u001b[1;36m5\u001b[0m\u001b[1;33m,\u001b[0m \u001b[0mScarborough_merged\u001b[0m\u001b[1;33m.\u001b[0m\u001b[0mshape\u001b[0m\u001b[1;33m[\u001b[0m\u001b[1;36m1\u001b[0m\u001b[1;33m]\u001b[0m\u001b[1;33m)\u001b[0m\u001b[1;33m)\u001b[0m\u001b[1;33m]\u001b[0m\u001b[1;33m]\u001b[0m\u001b[1;33m\u001b[0m\u001b[1;33m\u001b[0m\u001b[0m\n",
      "\u001b[1;31mNameError\u001b[0m: name 'Scarborough_merged' is not defined"
     ]
    }
   ],
   "source": [
    "df1=Scarborough_merged.loc[Scarborough_merged['Cluster Labels'] == 0,Scarborough_merged.columns[[2] + list(range(5, Scarborough_merged.shape[1]))]]\n",
    "df2=Scarborough_merged.loc[Scarborough_merged['Cluster Labels'] == 1,Scarborough_merged.columns[[2] + list(range(5, Scarborough_merged.shape[1]))]]\n",
    "df3=Scarborough_merged.loc[Scarborough_merged['Cluster Labels'] == 2,Scarborough_merged.columns[[2] + list(range(5, Scarborough_merged.shape[1]))]]"
   ]
  },
  {
   "cell_type": "code",
   "execution_count": 40,
   "metadata": {},
   "outputs": [
    {
     "ename": "ValueError",
     "evalue": "array length 103 does not match index length 180",
     "output_type": "error",
     "traceback": [
      "\u001b[1;31m---------------------------------------------------------------------------\u001b[0m",
      "\u001b[1;31mValueError\u001b[0m                                Traceback (most recent call last)",
      "\u001b[1;32m<ipython-input-40-803622a3eead>\u001b[0m in \u001b[0;36m<module>\u001b[1;34m\u001b[0m\n\u001b[0;32m     13\u001b[0m                                                                \u001b[1;36m279200.0\u001b[0m\u001b[1;33m,\u001b[0m\u001b[1;36m195000.0\u001b[0m\u001b[1;33m,\u001b[0m\u001b[1;36m370500.\u001b[0m\u001b[1;33m,\u001b[0m\u001b[1;36m255400.0\u001b[0m\u001b[1;33m,\u001b[0m\u001b[1;36m403500.0\u001b[0m\u001b[1;33m,\u001b[0m\u001b[1;36m433500.0\u001b[0m\u001b[1;33m,\u001b[0m\u001b[1;36m335000.0\u001b[0m\u001b[1;33m,\u001b[0m\u001b[1;36m286600.0\u001b[0m\u001b[1;33m,\u001b[0m\u001b[1;36m187000.0\u001b[0m\u001b[1;33m,\u001b[0m\u001b[1;36m225900.0\u001b[0m\u001b[1;33m,\u001b[0m\u001b[1;36m219400.0\u001b[0m\u001b[1;33m,\u001b[0m\u001b[1;33m\u001b[0m\u001b[1;33m\u001b[0m\u001b[0m\n\u001b[0;32m     14\u001b[0m                                                                \u001b[1;36m573900.0\u001b[0m\u001b[1;33m,\u001b[0m\u001b[1;36m325000.0\u001b[0m\u001b[1;33m,\u001b[0m\u001b[1;36m370500.0\u001b[0m\u001b[1;33m,\u001b[0m\u001b[1;36m370500.0\u001b[0m\u001b[1;33m,\u001b[0m\u001b[1;36m333500.0\u001b[0m\u001b[1;33m,\u001b[0m\u001b[1;36m279200.0\u001b[0m\u001b[1;33m,\u001b[0m\u001b[1;33m\u001b[0m\u001b[1;33m\u001b[0m\u001b[0m\n\u001b[1;32m---> 15\u001b[1;33m                                                                \u001b[1;36m279200.0\u001b[0m\u001b[1;33m,\u001b[0m\u001b[1;36m289000.0\u001b[0m\u001b[1;33m,\u001b[0m\u001b[1;36m370500.\u001b[0m\u001b[1;33m,\u001b[0m\u001b[1;36m255400.0\u001b[0m\u001b[1;33m,\u001b[0m\u001b[1;36m413500.0\u001b[0m\u001b[1;33m,\u001b[0m\u001b[1;36m433500.0\u001b[0m\u001b[1;33m,\u001b[0m\u001b[1;36m254800.0\u001b[0m\u001b[1;33m\u001b[0m\u001b[1;33m\u001b[0m\u001b[0m\n\u001b[0m\u001b[0;32m     16\u001b[0m \u001b[1;33m\u001b[0m\u001b[0m\n\u001b[0;32m     17\u001b[0m \u001b[1;33m\u001b[0m\u001b[0m\n",
      "\u001b[1;32mC:\\python\\lib\\site-packages\\pandas\\core\\frame.py\u001b[0m in \u001b[0;36m__init__\u001b[1;34m(self, data, index, columns, dtype, copy)\u001b[0m\n\u001b[0;32m    409\u001b[0m             )\n\u001b[0;32m    410\u001b[0m         \u001b[1;32melif\u001b[0m \u001b[0misinstance\u001b[0m\u001b[1;33m(\u001b[0m\u001b[0mdata\u001b[0m\u001b[1;33m,\u001b[0m \u001b[0mdict\u001b[0m\u001b[1;33m)\u001b[0m\u001b[1;33m:\u001b[0m\u001b[1;33m\u001b[0m\u001b[1;33m\u001b[0m\u001b[0m\n\u001b[1;32m--> 411\u001b[1;33m             \u001b[0mmgr\u001b[0m \u001b[1;33m=\u001b[0m \u001b[0minit_dict\u001b[0m\u001b[1;33m(\u001b[0m\u001b[0mdata\u001b[0m\u001b[1;33m,\u001b[0m \u001b[0mindex\u001b[0m\u001b[1;33m,\u001b[0m \u001b[0mcolumns\u001b[0m\u001b[1;33m,\u001b[0m \u001b[0mdtype\u001b[0m\u001b[1;33m=\u001b[0m\u001b[0mdtype\u001b[0m\u001b[1;33m)\u001b[0m\u001b[1;33m\u001b[0m\u001b[1;33m\u001b[0m\u001b[0m\n\u001b[0m\u001b[0;32m    412\u001b[0m         \u001b[1;32melif\u001b[0m \u001b[0misinstance\u001b[0m\u001b[1;33m(\u001b[0m\u001b[0mdata\u001b[0m\u001b[1;33m,\u001b[0m \u001b[0mma\u001b[0m\u001b[1;33m.\u001b[0m\u001b[0mMaskedArray\u001b[0m\u001b[1;33m)\u001b[0m\u001b[1;33m:\u001b[0m\u001b[1;33m\u001b[0m\u001b[1;33m\u001b[0m\u001b[0m\n\u001b[0;32m    413\u001b[0m             \u001b[1;32mimport\u001b[0m \u001b[0mnumpy\u001b[0m\u001b[1;33m.\u001b[0m\u001b[0mma\u001b[0m\u001b[1;33m.\u001b[0m\u001b[0mmrecords\u001b[0m \u001b[1;32mas\u001b[0m \u001b[0mmrecords\u001b[0m\u001b[1;33m\u001b[0m\u001b[1;33m\u001b[0m\u001b[0m\n",
      "\u001b[1;32mC:\\python\\lib\\site-packages\\pandas\\core\\internals\\construction.py\u001b[0m in \u001b[0;36minit_dict\u001b[1;34m(data, index, columns, dtype)\u001b[0m\n\u001b[0;32m    255\u001b[0m             \u001b[0marr\u001b[0m \u001b[1;32mif\u001b[0m \u001b[1;32mnot\u001b[0m \u001b[0mis_datetime64tz_dtype\u001b[0m\u001b[1;33m(\u001b[0m\u001b[0marr\u001b[0m\u001b[1;33m)\u001b[0m \u001b[1;32melse\u001b[0m \u001b[0marr\u001b[0m\u001b[1;33m.\u001b[0m\u001b[0mcopy\u001b[0m\u001b[1;33m(\u001b[0m\u001b[1;33m)\u001b[0m \u001b[1;32mfor\u001b[0m \u001b[0marr\u001b[0m \u001b[1;32min\u001b[0m \u001b[0marrays\u001b[0m\u001b[1;33m\u001b[0m\u001b[1;33m\u001b[0m\u001b[0m\n\u001b[0;32m    256\u001b[0m         ]\n\u001b[1;32m--> 257\u001b[1;33m     \u001b[1;32mreturn\u001b[0m \u001b[0marrays_to_mgr\u001b[0m\u001b[1;33m(\u001b[0m\u001b[0marrays\u001b[0m\u001b[1;33m,\u001b[0m \u001b[0mdata_names\u001b[0m\u001b[1;33m,\u001b[0m \u001b[0mindex\u001b[0m\u001b[1;33m,\u001b[0m \u001b[0mcolumns\u001b[0m\u001b[1;33m,\u001b[0m \u001b[0mdtype\u001b[0m\u001b[1;33m=\u001b[0m\u001b[0mdtype\u001b[0m\u001b[1;33m)\u001b[0m\u001b[1;33m\u001b[0m\u001b[1;33m\u001b[0m\u001b[0m\n\u001b[0m\u001b[0;32m    258\u001b[0m \u001b[1;33m\u001b[0m\u001b[0m\n\u001b[0;32m    259\u001b[0m \u001b[1;33m\u001b[0m\u001b[0m\n",
      "\u001b[1;32mC:\\python\\lib\\site-packages\\pandas\\core\\internals\\construction.py\u001b[0m in \u001b[0;36marrays_to_mgr\u001b[1;34m(arrays, arr_names, index, columns, dtype)\u001b[0m\n\u001b[0;32m     75\u001b[0m     \u001b[1;31m# figure out the index, if necessary\u001b[0m\u001b[1;33m\u001b[0m\u001b[1;33m\u001b[0m\u001b[1;33m\u001b[0m\u001b[0m\n\u001b[0;32m     76\u001b[0m     \u001b[1;32mif\u001b[0m \u001b[0mindex\u001b[0m \u001b[1;32mis\u001b[0m \u001b[1;32mNone\u001b[0m\u001b[1;33m:\u001b[0m\u001b[1;33m\u001b[0m\u001b[1;33m\u001b[0m\u001b[0m\n\u001b[1;32m---> 77\u001b[1;33m         \u001b[0mindex\u001b[0m \u001b[1;33m=\u001b[0m \u001b[0mextract_index\u001b[0m\u001b[1;33m(\u001b[0m\u001b[0marrays\u001b[0m\u001b[1;33m)\u001b[0m\u001b[1;33m\u001b[0m\u001b[1;33m\u001b[0m\u001b[0m\n\u001b[0m\u001b[0;32m     78\u001b[0m     \u001b[1;32melse\u001b[0m\u001b[1;33m:\u001b[0m\u001b[1;33m\u001b[0m\u001b[1;33m\u001b[0m\u001b[0m\n\u001b[0;32m     79\u001b[0m         \u001b[0mindex\u001b[0m \u001b[1;33m=\u001b[0m \u001b[0mensure_index\u001b[0m\u001b[1;33m(\u001b[0m\u001b[0mindex\u001b[0m\u001b[1;33m)\u001b[0m\u001b[1;33m\u001b[0m\u001b[1;33m\u001b[0m\u001b[0m\n",
      "\u001b[1;32mC:\\python\\lib\\site-packages\\pandas\\core\\internals\\construction.py\u001b[0m in \u001b[0;36mextract_index\u001b[1;34m(data)\u001b[0m\n\u001b[0;32m    379\u001b[0m                         \u001b[1;34m\"length {idx_len}\"\u001b[0m\u001b[1;33m.\u001b[0m\u001b[0mformat\u001b[0m\u001b[1;33m(\u001b[0m\u001b[0mlength\u001b[0m\u001b[1;33m=\u001b[0m\u001b[0mlengths\u001b[0m\u001b[1;33m[\u001b[0m\u001b[1;36m0\u001b[0m\u001b[1;33m]\u001b[0m\u001b[1;33m,\u001b[0m \u001b[0midx_len\u001b[0m\u001b[1;33m=\u001b[0m\u001b[0mlen\u001b[0m\u001b[1;33m(\u001b[0m\u001b[0mindex\u001b[0m\u001b[1;33m)\u001b[0m\u001b[1;33m)\u001b[0m\u001b[1;33m\u001b[0m\u001b[1;33m\u001b[0m\u001b[0m\n\u001b[0;32m    380\u001b[0m                     )\n\u001b[1;32m--> 381\u001b[1;33m                     \u001b[1;32mraise\u001b[0m \u001b[0mValueError\u001b[0m\u001b[1;33m(\u001b[0m\u001b[0mmsg\u001b[0m\u001b[1;33m)\u001b[0m\u001b[1;33m\u001b[0m\u001b[1;33m\u001b[0m\u001b[0m\n\u001b[0m\u001b[0;32m    382\u001b[0m             \u001b[1;32melse\u001b[0m\u001b[1;33m:\u001b[0m\u001b[1;33m\u001b[0m\u001b[1;33m\u001b[0m\u001b[0m\n\u001b[0;32m    383\u001b[0m                 \u001b[0mindex\u001b[0m \u001b[1;33m=\u001b[0m \u001b[0mibase\u001b[0m\u001b[1;33m.\u001b[0m\u001b[0mdefault_index\u001b[0m\u001b[1;33m(\u001b[0m\u001b[0mlengths\u001b[0m\u001b[1;33m[\u001b[0m\u001b[1;36m0\u001b[0m\u001b[1;33m]\u001b[0m\u001b[1;33m)\u001b[0m\u001b[1;33m\u001b[0m\u001b[1;33m\u001b[0m\u001b[0m\n",
      "\u001b[1;31mValueError\u001b[0m: array length 103 does not match index length 180"
     ]
    }
   ],
   "source": [
    "Scarborough_Avg_HousingPrice=pd.DataFrame({\"Neighborhood\":df_2[\"Neighborhood\"],\n",
    "                                      \"Average_Housing_Price\":[335000.0,286600.0,175000.0,225900.0,219400.0,\n",
    "                                                               573900.0,225000.0,370500.0,370500.0,433500.0,279200.0,\n",
    "                                                               279200.0,225000.0,370500.,255400.0,433500.0,433500.0,\n",
    "                                                               435000.0,289500.0,265000.0,285900.0,239400.0,\n",
    "                                                               589900.0,295000.0,380500.0,378500.0,438500.0,229200.0,\n",
    "                                                               229200.0,365000.0,388500.,285400.0,493500.0,477500.0,378000.0,316600.0,195000.0,225900.0,219400.0,\n",
    "                                                               573900.0,367000.0,370500.0,370500.0,363500.0,279200.0,\n",
    "                                                               279200.0,271000.0,370500.,255400.0,383500.0,433500.0,335000.0,286600.0,185000.0,225900.0,219400.0,\n",
    "                                                               573900.0,329000.0,370500.0,370500.0,533500.0,279200.0,\n",
    "                                                               279200.0,375000.0,370500.,255400.0,493500.0,433500.0,335000.0,286600.0,165000.0,225900.0,219400.0,\n",
    "                                                               573900.0,425000.0,370500.0,370500.0,433500.0,279200.0,\n",
    "                                                               279200.0,195000.0,370500.,255400.0,403500.0,433500.0,335000.0,286600.0,187000.0,225900.0,219400.0,\n",
    "                                                               573900.0,325000.0,370500.0,370500.0,333500.0,279200.0,\n",
    "                                                               279200.0,289000.0,370500.,255400.0,413500.0,433500.0,254800.0\n",
    "                                                              \n",
    "                                                              \n",
    "                                                              ]})"
   ]
  },
  {
   "cell_type": "code",
   "execution_count": 41,
   "metadata": {},
   "outputs": [
    {
     "ename": "NameError",
     "evalue": "name 'Scarborough_Avg_HousingPrice' is not defined",
     "output_type": "error",
     "traceback": [
      "\u001b[1;31m---------------------------------------------------------------------------\u001b[0m",
      "\u001b[1;31mNameError\u001b[0m                                 Traceback (most recent call last)",
      "\u001b[1;32m<ipython-input-41-858f0c153e4a>\u001b[0m in \u001b[0;36m<module>\u001b[1;34m\u001b[0m\n\u001b[1;32m----> 1\u001b[1;33m \u001b[0mScarborough_Avg_HousingPrice\u001b[0m\u001b[1;33m.\u001b[0m\u001b[0mset_index\u001b[0m\u001b[1;33m(\u001b[0m\u001b[1;34m'Neighborhood'\u001b[0m\u001b[1;33m,\u001b[0m\u001b[0minplace\u001b[0m\u001b[1;33m=\u001b[0m\u001b[1;32mTrue\u001b[0m\u001b[1;33m,\u001b[0m\u001b[0mdrop\u001b[0m\u001b[1;33m=\u001b[0m\u001b[1;32mTrue\u001b[0m\u001b[1;33m)\u001b[0m\u001b[1;33m\u001b[0m\u001b[1;33m\u001b[0m\u001b[0m\n\u001b[0m",
      "\u001b[1;31mNameError\u001b[0m: name 'Scarborough_Avg_HousingPrice' is not defined"
     ]
    }
   ],
   "source": [
    "Scarborough_Avg_HousingPrice.set_index('Neighborhood',inplace=True,drop=True)"
   ]
  },
  {
   "cell_type": "code",
   "execution_count": 42,
   "metadata": {},
   "outputs": [
    {
     "ename": "NameError",
     "evalue": "name 'Scarborough_Avg_HousingPrice' is not defined",
     "output_type": "error",
     "traceback": [
      "\u001b[1;31m---------------------------------------------------------------------------\u001b[0m",
      "\u001b[1;31mNameError\u001b[0m                                 Traceback (most recent call last)",
      "\u001b[1;32m<ipython-input-42-0b27266e927f>\u001b[0m in \u001b[0;36m<module>\u001b[1;34m\u001b[0m\n\u001b[1;32m----> 1\u001b[1;33m \u001b[0mScarborough_Avg_HousingPrice\u001b[0m\u001b[1;33m.\u001b[0m\u001b[0mplot\u001b[0m\u001b[1;33m(\u001b[0m\u001b[0mkind\u001b[0m\u001b[1;33m=\u001b[0m\u001b[1;34m'bar'\u001b[0m\u001b[1;33m,\u001b[0m\u001b[0mfigsize\u001b[0m\u001b[1;33m=\u001b[0m\u001b[1;33m(\u001b[0m\u001b[1;36m24\u001b[0m\u001b[1;33m,\u001b[0m\u001b[1;36m18\u001b[0m\u001b[1;33m)\u001b[0m\u001b[1;33m,\u001b[0m\u001b[0malpha\u001b[0m\u001b[1;33m=\u001b[0m\u001b[1;36m0.75\u001b[0m\u001b[1;33m)\u001b[0m\u001b[1;33m\u001b[0m\u001b[1;33m\u001b[0m\u001b[0m\n\u001b[0m",
      "\u001b[1;31mNameError\u001b[0m: name 'Scarborough_Avg_HousingPrice' is not defined"
     ]
    }
   ],
   "source": [
    "Scarborough_Avg_HousingPrice.plot(kind='bar',figsize=(24,18),alpha=0.75)"
   ]
  },
  {
   "cell_type": "code",
   "execution_count": 43,
   "metadata": {},
   "outputs": [
    {
     "ename": "NameError",
     "evalue": "name 'df1' is not defined",
     "output_type": "error",
     "traceback": [
      "\u001b[1;31m---------------------------------------------------------------------------\u001b[0m",
      "\u001b[1;31mNameError\u001b[0m                                 Traceback (most recent call last)",
      "\u001b[1;32m<ipython-input-43-a1251b644778>\u001b[0m in \u001b[0;36m<module>\u001b[1;34m\u001b[0m\n\u001b[1;32m----> 1\u001b[1;33m clusters=pd.DataFrame({\"Cluster1\":df1[\"Neighborhood\"],\n\u001b[0m\u001b[0;32m      2\u001b[0m                       \u001b[1;34m\"Cluster2\"\u001b[0m\u001b[1;33m:\u001b[0m\u001b[0mdf2\u001b[0m\u001b[1;33m[\u001b[0m\u001b[1;34m\"Neighborhood\"\u001b[0m\u001b[1;33m]\u001b[0m\u001b[1;33m,\u001b[0m\u001b[1;33m\u001b[0m\u001b[1;33m\u001b[0m\u001b[0m\n\u001b[0;32m      3\u001b[0m                       \"Cluster4\":df3[\"Neighborhood\"]})\n\u001b[0;32m      4\u001b[0m \u001b[0mclusters\u001b[0m \u001b[1;33m=\u001b[0m \u001b[0mclusters\u001b[0m\u001b[1;33m.\u001b[0m\u001b[0mreplace\u001b[0m\u001b[1;33m(\u001b[0m\u001b[0mnp\u001b[0m\u001b[1;33m.\u001b[0m\u001b[0mnan\u001b[0m\u001b[1;33m,\u001b[0m \u001b[1;34m''\u001b[0m\u001b[1;33m,\u001b[0m \u001b[0mregex\u001b[0m\u001b[1;33m=\u001b[0m\u001b[1;32mTrue\u001b[0m\u001b[1;33m)\u001b[0m\u001b[1;33m\u001b[0m\u001b[1;33m\u001b[0m\u001b[0m\n",
      "\u001b[1;31mNameError\u001b[0m: name 'df1' is not defined"
     ]
    }
   ],
   "source": [
    "clusters=pd.DataFrame({\"Cluster1\":df1[\"Neighborhood\"],\n",
    "                      \"Cluster2\":df2[\"Neighborhood\"],\n",
    "                      \"Cluster4\":df3[\"Neighborhood\"]})\n",
    "clusters = clusters.replace(np.nan, '', regex=True)"
   ]
  },
  {
   "cell_type": "code",
   "execution_count": 44,
   "metadata": {},
   "outputs": [
    {
     "ename": "NameError",
     "evalue": "name 'Scarborough_merged' is not defined",
     "output_type": "error",
     "traceback": [
      "\u001b[1;31m---------------------------------------------------------------------------\u001b[0m",
      "\u001b[1;31mNameError\u001b[0m                                 Traceback (most recent call last)",
      "\u001b[1;32m<ipython-input-44-3db45639949d>\u001b[0m in \u001b[0;36m<module>\u001b[1;34m\u001b[0m\n\u001b[1;32m----> 1\u001b[1;33m \u001b[0mnew_Scarborough\u001b[0m\u001b[1;33m=\u001b[0m\u001b[0mScarborough_merged\u001b[0m\u001b[1;33m.\u001b[0m\u001b[0mset_index\u001b[0m\u001b[1;33m(\u001b[0m\u001b[1;34m\"Neighborhood\"\u001b[0m\u001b[1;33m,\u001b[0m\u001b[0mdrop\u001b[0m\u001b[1;33m=\u001b[0m\u001b[1;32mTrue\u001b[0m\u001b[1;33m)\u001b[0m\u001b[1;33m\u001b[0m\u001b[1;33m\u001b[0m\u001b[0m\n\u001b[0m\u001b[0;32m      2\u001b[0m \u001b[1;31m#Source:https://www.greatschools.org\u001b[0m\u001b[1;33m\u001b[0m\u001b[1;33m\u001b[0m\u001b[1;33m\u001b[0m\u001b[0m\n\u001b[0;32m      3\u001b[0m Scarborough_school_ratings=pd.DataFrame({\"Neighborhood\":df[\"Neighborhood\"],\n\u001b[0;32m      4\u001b[0m                                       \"Top School Rating\":[7,9,5,8,10,10,7,10,1,2,1,2,7,2,3,2,6,\n\u001b[0;32m      5\u001b[0m                                                            \u001b[1;36m5\u001b[0m\u001b[1;33m,\u001b[0m\u001b[1;36m4\u001b[0m\u001b[1;33m,\u001b[0m\u001b[1;36m8\u001b[0m\u001b[1;33m,\u001b[0m\u001b[1;36m9\u001b[0m\u001b[1;33m,\u001b[0m\u001b[1;36m9\u001b[0m\u001b[1;33m,\u001b[0m\u001b[1;36m6\u001b[0m\u001b[1;33m,\u001b[0m\u001b[1;36m6\u001b[0m\u001b[1;33m,\u001b[0m\u001b[1;36m4\u001b[0m\u001b[1;33m,\u001b[0m\u001b[1;36m5\u001b[0m\u001b[1;33m,\u001b[0m\u001b[1;36m4\u001b[0m\u001b[1;33m,\u001b[0m\u001b[1;36m6\u001b[0m\u001b[1;33m,\u001b[0m\u001b[1;36m8\u001b[0m\u001b[1;33m,\u001b[0m\u001b[1;36m10\u001b[0m\u001b[1;33m,\u001b[0m\u001b[1;36m8\u001b[0m\u001b[1;33m,\u001b[0m\u001b[1;36m9\u001b[0m\u001b[1;33m,\u001b[0m\u001b[1;36m6\u001b[0m\u001b[1;33m,\u001b[0m\u001b[1;36m2\u001b[0m\u001b[1;33m,\u001b[0m\u001b[1;33m\u001b[0m\u001b[1;33m\u001b[0m\u001b[0m\n",
      "\u001b[1;31mNameError\u001b[0m: name 'Scarborough_merged' is not defined"
     ]
    }
   ],
   "source": [
    "new_Scarborough=Scarborough_merged.set_index(\"Neighborhood\",drop=True)\n",
    "#Source:https://www.greatschools.org\n",
    "Scarborough_school_ratings=pd.DataFrame({\"Neighborhood\":df[\"Neighborhood\"],\n",
    "                                      \"Top School Rating\":[7,9,5,8,10,10,7,10,1,2,1,2,7,2,3,2,6,\n",
    "                                                           5,4,8,9,9,6,6,4,5,4,6,8,10,8,9,6,2,\n",
    "                                                           10,2,5,8,9,6,6,10,8,9,1,2,3,4,5,6,9,\n",
    "                                                           8,5,9,6,9,6,4,8,10,2,5,6,3,9,8,7,\n",
    "                                                           7,8,5,8,9,1,5,4,7,2,3,6,6,9,4,8,7,\n",
    "                                                           4,8,9,2,6,4,7,5,10,4,6,8,9,7,5,6,5,8,7\n",
    "                                                           ]})"
   ]
  },
  {
   "cell_type": "code",
   "execution_count": 45,
   "metadata": {},
   "outputs": [
    {
     "ename": "NameError",
     "evalue": "name 'Scarborough_school_ratings' is not defined",
     "output_type": "error",
     "traceback": [
      "\u001b[1;31m---------------------------------------------------------------------------\u001b[0m",
      "\u001b[1;31mNameError\u001b[0m                                 Traceback (most recent call last)",
      "\u001b[1;32m<ipython-input-45-2dd3d9451be0>\u001b[0m in \u001b[0;36m<module>\u001b[1;34m\u001b[0m\n\u001b[1;32m----> 1\u001b[1;33m \u001b[0mScarborough_school_ratings\u001b[0m\u001b[1;33m.\u001b[0m\u001b[0mset_index\u001b[0m\u001b[1;33m(\u001b[0m\u001b[1;34m'Neighborhood'\u001b[0m\u001b[1;33m,\u001b[0m\u001b[0minplace\u001b[0m\u001b[1;33m=\u001b[0m\u001b[1;32mTrue\u001b[0m\u001b[1;33m,\u001b[0m\u001b[0mdrop\u001b[0m\u001b[1;33m=\u001b[0m\u001b[1;32mTrue\u001b[0m\u001b[1;33m)\u001b[0m\u001b[1;33m\u001b[0m\u001b[1;33m\u001b[0m\u001b[0m\n\u001b[0m",
      "\u001b[1;31mNameError\u001b[0m: name 'Scarborough_school_ratings' is not defined"
     ]
    }
   ],
   "source": [
    "Scarborough_school_ratings.set_index('Neighborhood',inplace=True,drop=True)"
   ]
  },
  {
   "cell_type": "code",
   "execution_count": 48,
   "metadata": {},
   "outputs": [
    {
     "ename": "NameError",
     "evalue": "name 'Scarborough_school_ratings' is not defined",
     "output_type": "error",
     "traceback": [
      "\u001b[1;31m---------------------------------------------------------------------------\u001b[0m",
      "\u001b[1;31mNameError\u001b[0m                                 Traceback (most recent call last)",
      "\u001b[1;32m<ipython-input-48-bb6291849e20>\u001b[0m in \u001b[0;36m<module>\u001b[1;34m\u001b[0m\n\u001b[1;32m----> 1\u001b[1;33m \u001b[0mScarborough_school_ratings\u001b[0m\u001b[1;33m.\u001b[0m\u001b[0mplot\u001b[0m\u001b[1;33m(\u001b[0m\u001b[0mkind\u001b[0m\u001b[1;33m=\u001b[0m\u001b[1;34m'bar'\u001b[0m\u001b[1;33m,\u001b[0m\u001b[0mfigsize\u001b[0m\u001b[1;33m=\u001b[0m\u001b[1;33m(\u001b[0m\u001b[1;36m16\u001b[0m\u001b[1;33m,\u001b[0m\u001b[1;36m10\u001b[0m\u001b[1;33m)\u001b[0m\u001b[1;33m,\u001b[0m\u001b[0mcolor\u001b[0m\u001b[1;33m=\u001b[0m\u001b[1;34m'green'\u001b[0m\u001b[1;33m,\u001b[0m\u001b[0malpha\u001b[0m\u001b[1;33m=\u001b[0m\u001b[1;36m0.75\u001b[0m\u001b[1;33m)\u001b[0m\u001b[1;33m;\u001b[0m\u001b[1;33m\u001b[0m\u001b[1;33m\u001b[0m\u001b[0m\n\u001b[0m",
      "\u001b[1;31mNameError\u001b[0m: name 'Scarborough_school_ratings' is not defined"
     ]
    }
   ],
   "source": [
    "Scarborough_school_ratings.plot(kind='bar',figsize=(16,10),color='green',alpha=0.75);"
   ]
  },
  {
   "cell_type": "code",
   "execution_count": null,
   "metadata": {},
   "outputs": [],
   "source": []
  }
 ],
 "metadata": {
  "kernelspec": {
   "display_name": "Python 3",
   "language": "python",
   "name": "python3"
  },
  "language_info": {
   "codemirror_mode": {
    "name": "ipython",
    "version": 3
   },
   "file_extension": ".py",
   "mimetype": "text/x-python",
   "name": "python",
   "nbconvert_exporter": "python",
   "pygments_lexer": "ipython3",
   "version": "3.7.4"
  }
 },
 "nbformat": 4,
 "nbformat_minor": 2
}
